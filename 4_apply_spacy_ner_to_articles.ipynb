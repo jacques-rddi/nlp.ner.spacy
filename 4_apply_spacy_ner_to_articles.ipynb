{
 "cells": [
  {
   "cell_type": "markdown",
   "id": "86b16064",
   "metadata": {},
   "source": [
    "## Imports"
   ]
  },
  {
   "cell_type": "code",
   "execution_count": 32,
   "id": "7b67ef56",
   "metadata": {},
   "outputs": [],
   "source": [
    "import copy\n",
    "import spacy\n",
    "import pickle\n",
    "\n",
    "\n",
    "import pandas as pd\n",
    "import numpy as np\n",
    "\n",
    "from datetime import datetime\n",
    "\n",
    "from tqdm import tqdm_notebook as tqdm "
   ]
  },
  {
   "cell_type": "code",
   "execution_count": 64,
   "id": "854891f0",
   "metadata": {},
   "outputs": [],
   "source": [
    "import en_core_web_trf\n",
    "from spacy.lang.en import English"
   ]
  },
  {
   "cell_type": "markdown",
   "id": "89c1763c",
   "metadata": {},
   "source": [
    "## Load models"
   ]
  },
  {
   "cell_type": "code",
   "execution_count": 65,
   "id": "ae7e8c8e",
   "metadata": {},
   "outputs": [
    {
     "data": {
      "text/plain": [
       "<spacy.pipeline.sentencizer.Sentencizer at 0x7fc993677af0>"
      ]
     },
     "execution_count": 65,
     "metadata": {},
     "output_type": "execute_result"
    }
   ],
   "source": [
    "nlp = en_core_web_trf.load()\n",
    "\n",
    "sentencizer = English()\n",
    "sentencizer.add_pipe(\"sentencizer\")"
   ]
  },
  {
   "cell_type": "markdown",
   "id": "70c0a049",
   "metadata": {},
   "source": [
    "## Data loading"
   ]
  },
  {
   "cell_type": "markdown",
   "id": "f62bf0ea",
   "metadata": {},
   "source": [
    "### Load teh dataframe with articles meta data"
   ]
  },
  {
   "cell_type": "code",
   "execution_count": 4,
   "id": "87a6595e",
   "metadata": {},
   "outputs": [],
   "source": [
    "tesla_articles_df = pd.read_csv('/home/jupyter/data/ner/theguardian/tesla_theguardian_df.csv', index_col=0)"
   ]
  },
  {
   "cell_type": "code",
   "execution_count": 5,
   "id": "578b9e73",
   "metadata": {},
   "outputs": [
    {
     "data": {
      "text/html": [
       "<div>\n",
       "<style scoped>\n",
       "    .dataframe tbody tr th:only-of-type {\n",
       "        vertical-align: middle;\n",
       "    }\n",
       "\n",
       "    .dataframe tbody tr th {\n",
       "        vertical-align: top;\n",
       "    }\n",
       "\n",
       "    .dataframe thead th {\n",
       "        text-align: right;\n",
       "    }\n",
       "</style>\n",
       "<table border=\"1\" class=\"dataframe\">\n",
       "  <thead>\n",
       "    <tr style=\"text-align: right;\">\n",
       "      <th></th>\n",
       "      <th>id</th>\n",
       "      <th>type</th>\n",
       "      <th>sectionId</th>\n",
       "      <th>webPublicationDate</th>\n",
       "      <th>webTitle</th>\n",
       "      <th>webUrl</th>\n",
       "      <th>apiUrl</th>\n",
       "    </tr>\n",
       "  </thead>\n",
       "  <tbody>\n",
       "    <tr>\n",
       "      <th>0</th>\n",
       "      <td>business_2021_may_13_fund-management-irretriev...</td>\n",
       "      <td>article</td>\n",
       "      <td>business</td>\n",
       "      <td>2021-05-13T16:27:08Z</td>\n",
       "      <td>Fund management ‘irretrievably broken’, says s...</td>\n",
       "      <td>https://www.theguardian.com/business/2021/may/...</td>\n",
       "      <td>https://content.guardianapis.com/business/2021...</td>\n",
       "    </tr>\n",
       "    <tr>\n",
       "      <th>1</th>\n",
       "      <td>business_2021_may_05_uk-car-sales-rebound-afte...</td>\n",
       "      <td>article</td>\n",
       "      <td>business</td>\n",
       "      <td>2021-05-05T09:21:07Z</td>\n",
       "      <td>UK car sales rebound after ‘one of darkest yea...</td>\n",
       "      <td>https://www.theguardian.com/business/2021/may/...</td>\n",
       "      <td>https://content.guardianapis.com/business/2021...</td>\n",
       "    </tr>\n",
       "    <tr>\n",
       "      <th>2</th>\n",
       "      <td>business_2021_apr_28_us-automakers-rules-auto-...</td>\n",
       "      <td>article</td>\n",
       "      <td>technology</td>\n",
       "      <td>2021-04-28T16:49:27Z</td>\n",
       "      <td>US automakers outline rules for auto-driving c...</td>\n",
       "      <td>https://www.theguardian.com/business/2021/apr/...</td>\n",
       "      <td>https://content.guardianapis.com/business/2021...</td>\n",
       "    </tr>\n",
       "    <tr>\n",
       "      <th>3</th>\n",
       "      <td>technology_2021_apr_26_tesla-record-quarterly-...</td>\n",
       "      <td>article</td>\n",
       "      <td>technology</td>\n",
       "      <td>2021-04-26T21:47:50Z</td>\n",
       "      <td>Tesla reports record quarterly profit as elect...</td>\n",
       "      <td>https://www.theguardian.com/technology/2021/ap...</td>\n",
       "      <td>https://content.guardianapis.com/technology/20...</td>\n",
       "    </tr>\n",
       "    <tr>\n",
       "      <th>4</th>\n",
       "      <td>commentisfree_2021_apr_25_elon-musk-jeff-bezos...</td>\n",
       "      <td>article</td>\n",
       "      <td>commentisfree</td>\n",
       "      <td>2021-04-25T05:00:07Z</td>\n",
       "      <td>In space, no one will hear Bezos and Musk’s wo...</td>\n",
       "      <td>https://www.theguardian.com/commentisfree/2021...</td>\n",
       "      <td>https://content.guardianapis.com/commentisfree...</td>\n",
       "    </tr>\n",
       "  </tbody>\n",
       "</table>\n",
       "</div>"
      ],
      "text/plain": [
       "                                                  id     type      sectionId  \\\n",
       "0  business_2021_may_13_fund-management-irretriev...  article       business   \n",
       "1  business_2021_may_05_uk-car-sales-rebound-afte...  article       business   \n",
       "2  business_2021_apr_28_us-automakers-rules-auto-...  article     technology   \n",
       "3  technology_2021_apr_26_tesla-record-quarterly-...  article     technology   \n",
       "4  commentisfree_2021_apr_25_elon-musk-jeff-bezos...  article  commentisfree   \n",
       "\n",
       "     webPublicationDate                                           webTitle  \\\n",
       "0  2021-05-13T16:27:08Z  Fund management ‘irretrievably broken’, says s...   \n",
       "1  2021-05-05T09:21:07Z  UK car sales rebound after ‘one of darkest yea...   \n",
       "2  2021-04-28T16:49:27Z  US automakers outline rules for auto-driving c...   \n",
       "3  2021-04-26T21:47:50Z  Tesla reports record quarterly profit as elect...   \n",
       "4  2021-04-25T05:00:07Z  In space, no one will hear Bezos and Musk’s wo...   \n",
       "\n",
       "                                              webUrl  \\\n",
       "0  https://www.theguardian.com/business/2021/may/...   \n",
       "1  https://www.theguardian.com/business/2021/may/...   \n",
       "2  https://www.theguardian.com/business/2021/apr/...   \n",
       "3  https://www.theguardian.com/technology/2021/ap...   \n",
       "4  https://www.theguardian.com/commentisfree/2021...   \n",
       "\n",
       "                                              apiUrl  \n",
       "0  https://content.guardianapis.com/business/2021...  \n",
       "1  https://content.guardianapis.com/business/2021...  \n",
       "2  https://content.guardianapis.com/business/2021...  \n",
       "3  https://content.guardianapis.com/technology/20...  \n",
       "4  https://content.guardianapis.com/commentisfree...  "
      ]
     },
     "execution_count": 5,
     "metadata": {},
     "output_type": "execute_result"
    }
   ],
   "source": [
    "tesla_articles_df.head()"
   ]
  },
  {
   "cell_type": "markdown",
   "id": "6af89478",
   "metadata": {},
   "source": [
    "### Load one article"
   ]
  },
  {
   "cell_type": "code",
   "execution_count": 6,
   "id": "05615229",
   "metadata": {},
   "outputs": [],
   "source": [
    "the_guardians_articles_directory = '/home/jupyter/data/ner/theguardian/articles/'\n",
    "test_file = tesla_articles_df.iloc[0][\"id\"] + \".txt\"\n",
    "with open(the_guardians_articles_directory + test_file, 'r') as f:\n",
    "    test_article = f.read()"
   ]
  },
  {
   "cell_type": "markdown",
   "id": "9442d1a1",
   "metadata": {},
   "source": [
    "##### Begining of the loaded article"
   ]
  },
  {
   "cell_type": "code",
   "execution_count": 63,
   "id": "674effae",
   "metadata": {},
   "outputs": [
    {
     "data": {
      "text/plain": [
       "\"Something very, very wrong is happening. I'm flying along the windy, cypress-lined roads of Pebble B ...\""
      ]
     },
     "execution_count": 63,
     "metadata": {},
     "output_type": "execute_result"
    }
   ],
   "source": [
    "test_article[:100] + \" ...\""
   ]
  },
  {
   "cell_type": "markdown",
   "id": "095f23d4",
   "metadata": {},
   "source": [
    "### Apply sentencizer and NER models on the first article to see an example"
   ]
  },
  {
   "cell_type": "code",
   "execution_count": 69,
   "id": "68e111a8",
   "metadata": {},
   "outputs": [],
   "source": [
    "doc = sentencizer(test_article)\n",
    "\n",
    "spacy_ner_predictions = []\n",
    "for sentence in doc.sents:\n",
    "    spacy_ents_dict = {\"string\": str(sentence), \"ents\": []}\n",
    "#     print(str(sentence))\n",
    "    for ent in nlp(str(sentence)).ents:\n",
    "        spacy_ents_dict[\"ents\"].append({\n",
    "            \"start\": ent.start_char,\n",
    "            \"end\": ent.end_char,\n",
    "            \"ent_type\":ent.label_,\n",
    "            \"ent_value\":str(sentence)[ent.start_char:ent.end_char]\n",
    "        })\n",
    "    spacy_ner_predictions.append(spacy_ents_dict)"
   ]
  },
  {
   "cell_type": "markdown",
   "id": "8707e6d6",
   "metadata": {},
   "source": [
    "#### Display the NER results on the first 5 sentences"
   ]
  },
  {
   "cell_type": "code",
   "execution_count": 70,
   "id": "79a7db86",
   "metadata": {},
   "outputs": [
    {
     "data": {
      "text/plain": [
       "[{'string': 'Something very, very wrong is happening.', 'ents': []},\n",
       " {'string': \"I'm flying along the windy, cypress-lined roads of Pebble Beach in California being chased by a hairdryer.\",\n",
       "  'ents': [{'start': 51,\n",
       "    'end': 63,\n",
       "    'ent_type': 'GPE',\n",
       "    'ent_value': 'Pebble Beach'},\n",
       "   {'start': 67, 'end': 77, 'ent_type': 'GPE', 'ent_value': 'California'}]},\n",
       " {'string': 'Or at least that\\'s what it sounds like. \"', 'ents': []},\n",
       " {'string': 'Do you drive many high-performance cars?\"', 'ents': []},\n",
       " {'string': 'asks Mike Harrigan, an executive from Tesla motors.',\n",
       "  'ents': [{'start': 5,\n",
       "    'end': 18,\n",
       "    'ent_type': 'PERSON',\n",
       "    'ent_value': 'Mike Harrigan'},\n",
       "   {'start': 38, 'end': 43, 'ent_type': 'ORG', 'ent_value': 'Tesla'}]}]"
      ]
     },
     "execution_count": 70,
     "metadata": {},
     "output_type": "execute_result"
    }
   ],
   "source": [
    "spacy_ner_predictions[:5]"
   ]
  },
  {
   "cell_type": "markdown",
   "id": "fe6333ab",
   "metadata": {},
   "source": [
    "## Extract the entities from all the article on Tesla from the guardian \n",
    "\n",
    "We will build a dataframe containing the following columns:\n",
    "- article_id: The id of the article\n",
    "- article_type: The type of article\n",
    "- article_date: The date of publishing of teh article\n",
    "- article_section: The section in which it belong\n",
    "- article_title: The title of the article\n",
    "- sentence_i: The sentence number in the article\n",
    "- entity_type: The type of entity\n",
    "- entity_value: The value of the entity found"
   ]
  },
  {
   "cell_type": "code",
   "execution_count": 109,
   "id": "b4ab00df",
   "metadata": {},
   "outputs": [
    {
     "name": "stderr",
     "output_type": "stream",
     "text": [
      "/opt/conda/lib/python3.7/site-packages/ipykernel_launcher.py:2: TqdmDeprecationWarning: This function will be removed in tqdm==5.0.0\n",
      "Please use `tqdm.notebook.tqdm` instead of `tqdm.tqdm_notebook`\n",
      "  \n"
     ]
    },
    {
     "data": {
      "application/vnd.jupyter.widget-view+json": {
       "model_id": "a5fba4b94a8340c88167d9248f8811a4",
       "version_major": 2,
       "version_minor": 0
      },
      "text/plain": [
       "  0%|          | 0/404 [00:00<?, ?it/s]"
      ]
     },
     "metadata": {},
     "output_type": "display_data"
    }
   ],
   "source": [
    "org_pers_gpe_df_values = []\n",
    "for line_i in tqdm(range(len(tesla_articles_df))):\n",
    "    article_metadata = tesla_articles_df.iloc[line_i]\n",
    "    article_id = article_metadata[\"id\"]\n",
    "    article_type = article_metadata[\"type\"]\n",
    "    article_date = article_metadata[\"webPublicationDate\"]\n",
    "    article_section = article_metadata[\"sectionId\"]\n",
    "    article_title = article_metadata[\"webTitle\"]\n",
    "    \n",
    "    test_file = article_id + \".txt\"\n",
    "    with open(the_guardians_articles_directory + test_file, 'r') as f:\n",
    "        test_article = f.read()\n",
    "\n",
    "    doc = sentencizer(test_article)\n",
    "    sentences = [s for s in doc.sents]\n",
    "    nb_sentences_in_doc = len(sentences)\n",
    "    for sentence_i, sentence in enumerate(sentences):\n",
    "\n",
    "        for ent in nlp(str(sentence)).ents:\n",
    "            if ent.label_ in ['PERSON', 'ORG', 'GPE']:\n",
    "                org_pers_gpe_df_values.append({\n",
    "                    \"article_id\": article_id,\n",
    "                    \"article_type\": article_type,\n",
    "                    \"article_date\": article_date,\n",
    "                    \"article_section\": article_section,\n",
    "                    \"article_title\": article_title,\n",
    "                    \"sentence_i\": sentence_i,\n",
    "                    \"nb_sentences_in_doc\": nb_sentences_in_doc,\n",
    "                    \"sentence\": sentence,\n",
    "                    \"entity_type\": ent.label_,\n",
    "                    \"entity_value\": str(sentence)[ent.start_char:ent.end_char]\n",
    "                })"
   ]
  },
  {
   "cell_type": "markdown",
   "id": "b0dbd78d",
   "metadata": {},
   "source": [
    "##### Observation:\n",
    "We 16,000 enetities in our 404 articles"
   ]
  },
  {
   "cell_type": "code",
   "execution_count": 110,
   "id": "d00f23a6",
   "metadata": {},
   "outputs": [
    {
     "data": {
      "text/plain": [
       "16335"
      ]
     },
     "execution_count": 110,
     "metadata": {},
     "output_type": "execute_result"
    }
   ],
   "source": [
    "len(org_pers_gpe_df_values)"
   ]
  },
  {
   "cell_type": "markdown",
   "id": "cac0ea59",
   "metadata": {},
   "source": [
    "#### We build the dataframe out of the list of dictionnary"
   ]
  },
  {
   "cell_type": "code",
   "execution_count": 111,
   "id": "336fc3ec",
   "metadata": {},
   "outputs": [
    {
     "data": {
      "text/html": [
       "<div>\n",
       "<style scoped>\n",
       "    .dataframe tbody tr th:only-of-type {\n",
       "        vertical-align: middle;\n",
       "    }\n",
       "\n",
       "    .dataframe tbody tr th {\n",
       "        vertical-align: top;\n",
       "    }\n",
       "\n",
       "    .dataframe thead th {\n",
       "        text-align: right;\n",
       "    }\n",
       "</style>\n",
       "<table border=\"1\" class=\"dataframe\">\n",
       "  <thead>\n",
       "    <tr style=\"text-align: right;\">\n",
       "      <th></th>\n",
       "      <th>article_id</th>\n",
       "      <th>article_type</th>\n",
       "      <th>article_date</th>\n",
       "      <th>article_section</th>\n",
       "      <th>article_title</th>\n",
       "      <th>sentence_i</th>\n",
       "      <th>nb_sentences_in_doc</th>\n",
       "      <th>sentence</th>\n",
       "      <th>entity_type</th>\n",
       "      <th>entity_value</th>\n",
       "    </tr>\n",
       "  </thead>\n",
       "  <tbody>\n",
       "    <tr>\n",
       "      <th>0</th>\n",
       "      <td>business_2021_may_13_fund-management-irretriev...</td>\n",
       "      <td>article</td>\n",
       "      <td>2021-05-13T16:27:08Z</td>\n",
       "      <td>business</td>\n",
       "      <td>Fund management ‘irretrievably broken’, says s...</td>\n",
       "      <td>0</td>\n",
       "      <td>31</td>\n",
       "      <td>(The, star, technology, investor, James, Ander...</td>\n",
       "      <td>PERSON</td>\n",
       "      <td>James Anderson</td>\n",
       "    </tr>\n",
       "    <tr>\n",
       "      <th>1</th>\n",
       "      <td>business_2021_may_13_fund-management-irretriev...</td>\n",
       "      <td>article</td>\n",
       "      <td>2021-05-13T16:27:08Z</td>\n",
       "      <td>business</td>\n",
       "      <td>Fund management ‘irretrievably broken’, says s...</td>\n",
       "      <td>1</td>\n",
       "      <td>31</td>\n",
       "      <td>(The, outgoing, co, -, manager, of, the, FTSE,...</td>\n",
       "      <td>ORG</td>\n",
       "      <td>Scottish Mortgage Investment Trust</td>\n",
       "    </tr>\n",
       "    <tr>\n",
       "      <th>2</th>\n",
       "      <td>business_2021_may_13_fund-management-irretriev...</td>\n",
       "      <td>article</td>\n",
       "      <td>2021-05-13T16:27:08Z</td>\n",
       "      <td>business</td>\n",
       "      <td>Fund management ‘irretrievably broken’, says s...</td>\n",
       "      <td>2</td>\n",
       "      <td>31</td>\n",
       "      <td>(Anderson, ,, who, is, stepping, down, in, a, ...</td>\n",
       "      <td>PERSON</td>\n",
       "      <td>Anderson</td>\n",
       "    </tr>\n",
       "    <tr>\n",
       "      <th>3</th>\n",
       "      <td>business_2021_may_13_fund-management-irretriev...</td>\n",
       "      <td>article</td>\n",
       "      <td>2021-05-13T16:27:08Z</td>\n",
       "      <td>business</td>\n",
       "      <td>Fund management ‘irretrievably broken’, says s...</td>\n",
       "      <td>2</td>\n",
       "      <td>31</td>\n",
       "      <td>(Anderson, ,, who, is, stepping, down, in, a, ...</td>\n",
       "      <td>ORG</td>\n",
       "      <td>Baillie Gifford’s</td>\n",
       "    </tr>\n",
       "    <tr>\n",
       "      <th>4</th>\n",
       "      <td>business_2021_may_13_fund-management-irretriev...</td>\n",
       "      <td>article</td>\n",
       "      <td>2021-05-13T16:27:08Z</td>\n",
       "      <td>business</td>\n",
       "      <td>Fund management ‘irretrievably broken’, says s...</td>\n",
       "      <td>2</td>\n",
       "      <td>31</td>\n",
       "      <td>(Anderson, ,, who, is, stepping, down, in, a, ...</td>\n",
       "      <td>ORG</td>\n",
       "      <td>Tesla</td>\n",
       "    </tr>\n",
       "  </tbody>\n",
       "</table>\n",
       "</div>"
      ],
      "text/plain": [
       "                                          article_id article_type  \\\n",
       "0  business_2021_may_13_fund-management-irretriev...      article   \n",
       "1  business_2021_may_13_fund-management-irretriev...      article   \n",
       "2  business_2021_may_13_fund-management-irretriev...      article   \n",
       "3  business_2021_may_13_fund-management-irretriev...      article   \n",
       "4  business_2021_may_13_fund-management-irretriev...      article   \n",
       "\n",
       "           article_date article_section  \\\n",
       "0  2021-05-13T16:27:08Z        business   \n",
       "1  2021-05-13T16:27:08Z        business   \n",
       "2  2021-05-13T16:27:08Z        business   \n",
       "3  2021-05-13T16:27:08Z        business   \n",
       "4  2021-05-13T16:27:08Z        business   \n",
       "\n",
       "                                       article_title  sentence_i  \\\n",
       "0  Fund management ‘irretrievably broken’, says s...           0   \n",
       "1  Fund management ‘irretrievably broken’, says s...           1   \n",
       "2  Fund management ‘irretrievably broken’, says s...           2   \n",
       "3  Fund management ‘irretrievably broken’, says s...           2   \n",
       "4  Fund management ‘irretrievably broken’, says s...           2   \n",
       "\n",
       "   nb_sentences_in_doc                                           sentence  \\\n",
       "0                   31  (The, star, technology, investor, James, Ander...   \n",
       "1                   31  (The, outgoing, co, -, manager, of, the, FTSE,...   \n",
       "2                   31  (Anderson, ,, who, is, stepping, down, in, a, ...   \n",
       "3                   31  (Anderson, ,, who, is, stepping, down, in, a, ...   \n",
       "4                   31  (Anderson, ,, who, is, stepping, down, in, a, ...   \n",
       "\n",
       "  entity_type                        entity_value  \n",
       "0      PERSON                      James Anderson  \n",
       "1         ORG  Scottish Mortgage Investment Trust  \n",
       "2      PERSON                            Anderson  \n",
       "3         ORG                   Baillie Gifford’s  \n",
       "4         ORG                               Tesla  "
      ]
     },
     "execution_count": 111,
     "metadata": {},
     "output_type": "execute_result"
    }
   ],
   "source": [
    "org_pers_gpe_df = pd.DataFrame(org_pers_gpe_df_values)\n",
    "org_pers_gpe_df.head()"
   ]
  },
  {
   "cell_type": "markdown",
   "id": "ae366b66",
   "metadata": {},
   "source": [
    "## Entities analysis"
   ]
  },
  {
   "cell_type": "markdown",
   "id": "c3e1b8c5",
   "metadata": {},
   "source": [
    "#### We look at the number of entities found for each types"
   ]
  },
  {
   "cell_type": "code",
   "execution_count": 75,
   "id": "fca50f78",
   "metadata": {},
   "outputs": [
    {
     "data": {
      "text/plain": [
       "ORG       8419\n",
       "PERSON    5049\n",
       "GPE       2867\n",
       "Name: entity_type, dtype: int64"
      ]
     },
     "execution_count": 75,
     "metadata": {},
     "output_type": "execute_result"
    }
   ],
   "source": [
    "org_pers_gpe_df.entity_type.value_counts()"
   ]
  },
  {
   "cell_type": "markdown",
   "id": "e4578c6d",
   "metadata": {},
   "source": [
    "### Methode:\n",
    "For each type of enetities we will look at the top 20 most frequent. For a few examples of \"unexpected\" entities we will look at the article titles containing those enetities to understand their contexte. we will also look at their occurence through time to locate their impact in the time.\n"
   ]
  },
  {
   "cell_type": "markdown",
   "id": "5e4f09a7",
   "metadata": {},
   "source": [
    "### Entity PERSON"
   ]
  },
  {
   "cell_type": "code",
   "execution_count": 91,
   "id": "8729b14c",
   "metadata": {},
   "outputs": [
    {
     "data": {
      "text/plain": [
       "Musk            1457\n",
       "Elon Musk        460\n",
       "Elon Musk’s       74\n",
       "Unsworth          66\n",
       "Trump             64\n",
       "Vandermeyden      51\n",
       "Brown             43\n",
       "Tripp             39\n",
       "Bezos             37\n",
       "Elon              31\n",
       "Jeff Bezos        30\n",
       "Tesla             28\n",
       "Joshua Brown      27\n",
       "Grimes            22\n",
       "Therese           22\n",
       "Broder            21\n",
       "Ferro             20\n",
       "Barbara           19\n",
       "Edwards           19\n",
       "Nick              19\n",
       "Name: entity_value, dtype: int64"
      ]
     },
     "execution_count": 91,
     "metadata": {},
     "output_type": "execute_result"
    }
   ],
   "source": [
    "org_pers_gpe_df[org_pers_gpe_df.entity_type == \"PERSON\"].entity_value.value_counts()[:20]"
   ]
  },
  {
   "cell_type": "markdown",
   "id": "18ab0af0",
   "metadata": {},
   "source": [
    "### We look at the articles mentioning Joshua Brown or Brown"
   ]
  },
  {
   "cell_type": "code",
   "execution_count": 88,
   "id": "afb66af8",
   "metadata": {},
   "outputs": [
    {
     "data": {
      "text/plain": [
       "Tesla Model S cleared by auto safety regulator after fatal Autopilot crash           10\n",
       "Tesla driver killed while using autopilot was watching Harry Potter, witness says     6\n",
       "Tesla fatal autopilot crash: family may have grounds to sue, legal experts say        6\n",
       "Elon Musk's self-driving evangelism masks risk of Tesla autopilot, experts say        6\n",
       "What will happen when a self-driving car kills a bystander?                           5\n",
       "Tesla drivers post viral, self-driving 'stunts' using autopilot technology            5\n",
       "The first self-driving car fatality proves nothing | John Naughton                    5\n",
       "Tesla driver dies in first fatal crash while using autopilot mode                     4\n",
       "Elon Musk Twitter rant a 'case study' in how not to handle a crisis, experts say      3\n",
       "Fatal crash prompts federal investigation of Tesla self-driving cars                  3\n",
       "Name: article_title, dtype: int64"
      ]
     },
     "execution_count": 88,
     "metadata": {},
     "output_type": "execute_result"
    }
   ],
   "source": [
    "def get_top_articles_related_to_entity(ent_val, ent_type, top=10):\n",
    "    \n",
    "    if type(ent_val) != list:\n",
    "        ent_val = [ent_val]\n",
    "    if type(ent_type) != list:\n",
    "        ent_type = [ent_type]\n",
    "        \n",
    "    return org_pers_gpe_df[(org_pers_gpe_df.entity_value.isin(ent_val)) &\\\n",
    "                           (org_pers_gpe_df.entity_type.isin(ent_type))].article_title.value_counts()[:10]\n",
    "\n",
    "get_top_articles_related_to_entity(ent_val=[\"Joshua Brown\", \"Brown\"], ent_type=\"PERSON\")"
   ]
  },
  {
   "cell_type": "code",
   "execution_count": 86,
   "id": "7939560a",
   "metadata": {},
   "outputs": [
    {
     "data": {
      "image/png": "[encoded data removed]",
      "text/plain": [
       "<Figure size 360x360 with 1 Axes>"
      ]
     },
     "metadata": {
      "needs_background": "light"
     },
     "output_type": "display_data"
    }
   ],
   "source": [
    "def get_importance_of_entity_through_time(ent_val, ent_type, start_period=datetime(2010, 1, 1), end_period=datetime(2021, 1, 1)):\n",
    "    \"\"\"\n",
    "    \n",
    "    \"\"\"\n",
    "    if type(ent_val) != list:\n",
    "        ent_val = [ent_val]\n",
    "    if type(ent_type) != list:\n",
    "        ent_type = [ent_type]\n",
    "\n",
    "    organisation_talk_dates = org_pers_gpe_df[(org_pers_gpe_df.entity_value.isin(ent_val)) &\\\n",
    "                                              (org_pers_gpe_df.entity_type.isin(ent_type))]\\\n",
    "            .article_date.apply(lambda x: datetime.strptime(x.split('T')[0], \"%Y-%m-%d\"))\n",
    "    sns.displot(organisation_talk_dates, kde=True)\n",
    "    plt.title(f'Number of occurence through time of enetity : {\", \".join(ent_val)}')\n",
    "    plt.xlim(left=datetime(2010, 1, 1), right=datetime(2021, 1, 1))\n",
    "    plt.show()\n",
    "    \n",
    "get_importance_of_entity_through_time(ent_val=[\"Joshua Brown\", \"Brown\"], ent_type=\"PERSON\")"
   ]
  },
  {
   "cell_type": "markdown",
   "id": "e8df72e2",
   "metadata": {},
   "source": [
    "##### Observation:\n",
    "We can deduce that Joshua Brown was a persone who died in a tesla car using the auto pilote. This accident had a fairly long term impact on the company's reputation as  Joshua Brown name's is mentionned more than 1 year after the accident."
   ]
  },
  {
   "cell_type": "markdown",
   "id": "e9b6230b",
   "metadata": {},
   "source": [
    "### We look at the articles mentioning Barbara"
   ]
  },
  {
   "cell_type": "code",
   "execution_count": 92,
   "id": "cdc34394",
   "metadata": {},
   "outputs": [
    {
     "data": {
      "text/plain": [
       "The lawyers taking on Silicon Valley sexism: 'It's far worse than people know'    19\n",
       "Name: article_title, dtype: int64"
      ]
     },
     "execution_count": 92,
     "metadata": {},
     "output_type": "execute_result"
    }
   ],
   "source": [
    "get_top_articles_related_to_entity(ent_val=\"Barbara\", ent_type=\"PERSON\")"
   ]
  },
  {
   "cell_type": "code",
   "execution_count": 93,
   "id": "de5624d3",
   "metadata": {},
   "outputs": [
    {
     "name": "stderr",
     "output_type": "stream",
     "text": [
      "/opt/conda/lib/python3.7/site-packages/seaborn/distributions.py:306: UserWarning: Dataset has 0 variance; skipping density estimate.\n",
      "  warnings.warn(msg, UserWarning)\n"
     ]
    },
    {
     "data": {
      "image/png": "[encoded data removed]",
      "text/plain": [
       "<Figure size 360x360 with 1 Axes>"
      ]
     },
     "metadata": {
      "needs_background": "light"
     },
     "output_type": "display_data"
    }
   ],
   "source": [
    "get_importance_of_entity_through_time(ent_val=[\"Barbara\"], ent_type=\"PERSON\")"
   ]
  },
  {
   "cell_type": "code",
   "execution_count": 102,
   "id": "cee43340",
   "metadata": {},
   "outputs": [
    {
     "data": {
      "text/plain": [
       "Therese              22\n",
       "Barbara              19\n",
       "Pao                  10\n",
       "Lawless               6\n",
       "Ellen Pao             5\n",
       "Therese Lawless       3\n",
       "Ellen                 3\n",
       "Susan Fowler          3\n",
       "Chia Hong             2\n",
       "Alan Axelrod          2\n",
       "Elon Musk’s           2\n",
       "Kalanick              2\n",
       "Elizabeth Scott       2\n",
       "James Damore          2\n",
       "AJ Vandermeyden       2\n",
       "Winni Wintermeyer     1\n",
       "Marissa Mayer         1\n",
       "Barbara Lawless       1\n",
       "Eric Risberg          1\n",
       "Ramin Talaie          1\n",
       "Name: entity_value, dtype: int64"
      ]
     },
     "execution_count": 102,
     "metadata": {},
     "output_type": "execute_result"
    }
   ],
   "source": [
    "barbara_articles = set(org_pers_gpe_df[(org_pers_gpe_df.entity_value.isin([\"Barbara\"])) &\\\n",
    "                (org_pers_gpe_df.entity_type == \"PERSON\")].article_id.values)\n",
    "\n",
    "org_pers_gpe_df[(org_pers_gpe_df.article_id.isin(barbara_articles)) &\\\n",
    "                (org_pers_gpe_df.entity_type == \"PERSON\")].entity_value.value_counts()[:20]"
   ]
  },
  {
   "cell_type": "code",
   "execution_count": 105,
   "id": "729772d0",
   "metadata": {},
   "outputs": [
    {
     "data": {
      "text/plain": [
       "{'money_2017_sep_02_lawyers-silicon-valley-sexism-worse-google-uber-lawless-sisters',\n",
       " 'technology_2017_feb_28_tesla-female-engineer-lawsuit-harassment-discrimination',\n",
       " 'technology_2017_jun_01_tesla-fires-aj-vandermeyden-lawsuit-sexual-harrassment'}"
      ]
     },
     "execution_count": 105,
     "metadata": {},
     "output_type": "execute_result"
    }
   ],
   "source": [
    "tesla_sexism_article_ids = set(org_pers_gpe_df[\n",
    "    (org_pers_gpe_df.entity_value.isin([\"Therese\", \"Lawless\", \"Barbara Lawless\",\n",
    "    \"Ellen Pao\", \"Susan Fowler\", \"Chia Hong\", \"Elizabeth Scott\"])) &\\\n",
    "    (org_pers_gpe_df.entity_type == \"PERSON\")].article_id.values)\n",
    "tesla_sexism_article_ids"
   ]
  },
  {
   "cell_type": "markdown",
   "id": "60984a8d",
   "metadata": {},
   "source": [
    "##### Observations:\n",
    "\n",
    "We can see that Barbara Lawless, as well as Therese Lawless, Ellen Pao, Susan Fowler, Chia Hong and Elizabeth Scott were all linked into a sexual harrasement and sexixm case within Tesla motors in 2017. We have seen that several people been in the same group of article can help to highlight a certain link between them."
   ]
  },
  {
   "cell_type": "markdown",
   "id": "265caa5e",
   "metadata": {},
   "source": [
    "### Entity GPE (Location)"
   ]
  },
  {
   "cell_type": "code",
   "execution_count": 24,
   "id": "cd2fbae8",
   "metadata": {},
   "outputs": [
    {
     "data": {
      "text/plain": [
       "US                 455\n",
       "UK                 265\n",
       "California         217\n",
       "China               99\n",
       "Australia           69\n",
       "Fremont             67\n",
       "London              57\n",
       "South Australia     56\n",
       "Germany             48\n",
       "Britain             48\n",
       "America             47\n",
       "Nevada              45\n",
       "Los Angeles         36\n",
       "San Francisco       30\n",
       "Florida             30\n",
       "Japan               28\n",
       "Paris               27\n",
       "Thailand            26\n",
       "Texas               26\n",
       "New York            24\n",
       "Name: entity_value, dtype: int64"
      ]
     },
     "execution_count": 24,
     "metadata": {},
     "output_type": "execute_result"
    }
   ],
   "source": [
    "org_pers_gpe_df[org_pers_gpe_df.entity_type == \"GPE\"].entity_value.value_counts()[:20]"
   ]
  },
  {
   "cell_type": "markdown",
   "id": "4f3b09c4",
   "metadata": {},
   "source": [
    "### We look at the case of Fremont"
   ]
  },
  {
   "cell_type": "code",
   "execution_count": 112,
   "id": "d0733aa1",
   "metadata": {},
   "outputs": [
    {
     "data": {
      "text/plain": [
       "'F*ck Elon Musk': Democrat rebukes magnate over coronavirus restrictions row                       6\n",
       "Tesla workers’ unemployment may be suspended if they don't return, emails show                     5\n",
       "Elon Musk v public health: a timeline of the Tesla factory standoff                                5\n",
       "'How do they expect to run without us?' Tesla accused of axing key staff to cut costs              4\n",
       "Tesla factory workers reveal pain, injury and stress: 'Everything feels like the future but us'    3\n",
       "Former Tesla workers claim they were fired for using maternity and sick leave                      3\n",
       "Billionaires add $1tn to net worth during pandemic as their workers struggle                       3\n",
       "Tesla factory to be investigated over safety concerns                                              3\n",
       "Tesla employee bus crashes into car, killing off-duty officer in California                        2\n",
       "Elon Musk reopens California Tesla factory in defiance of lockdown order                           2\n",
       "Name: article_title, dtype: int64"
      ]
     },
     "execution_count": 112,
     "metadata": {},
     "output_type": "execute_result"
    }
   ],
   "source": [
    "get_top_articles_related_to_entity(ent_val=\"Fremont\", ent_type=\"GPE\")"
   ]
  },
  {
   "cell_type": "code",
   "execution_count": 113,
   "id": "b748c8a6",
   "metadata": {},
   "outputs": [
    {
     "data": {
      "image/png": "[encoded data removed]",
      "text/plain": [
       "<Figure size 360x360 with 1 Axes>"
      ]
     },
     "metadata": {
      "needs_background": "light"
     },
     "output_type": "display_data"
    }
   ],
   "source": [
    "get_importance_of_entity_through_time(ent_val=\"Fremont\", ent_type=\"GPE\")"
   ]
  },
  {
   "cell_type": "markdown",
   "id": "0d7841f8",
   "metadata": {},
   "source": [
    "##### Observations:\n",
    "\n",
    "We can deduce that a Tesla factory is established in Fremont, and that their was a lot of pressure in this factory in 2020 due to covid-19."
   ]
  },
  {
   "cell_type": "markdown",
   "id": "ad2b90dd",
   "metadata": {},
   "source": [
    "### Entity ORG (Organisation)"
   ]
  },
  {
   "cell_type": "code",
   "execution_count": 28,
   "id": "b1ced5db",
   "metadata": {},
   "outputs": [
    {
     "data": {
      "text/plain": [
       "Tesla                3134\n",
       "Google                160\n",
       "Apple                 157\n",
       "Guardian              146\n",
       "SEC                   123\n",
       "SpaceX                115\n",
       "Amazon                113\n",
       "Ford                   94\n",
       "Facebook               87\n",
       "Uber                   66\n",
       "Nissan                 62\n",
       "Toyota                 58\n",
       "Reuters                54\n",
       "Microsoft              51\n",
       "Business Today         50\n",
       "Guardian Business      50\n",
       "Tesla Motors           49\n",
       "Musk                   42\n",
       "General Motors         41\n",
       "GM                     41\n",
       "Name: entity_value, dtype: int64"
      ]
     },
     "execution_count": 28,
     "metadata": {},
     "output_type": "execute_result"
    }
   ],
   "source": [
    "org_pers_gpe_df[org_pers_gpe_df.entity_type == \"ORG\"].entity_value.value_counts()[:20]"
   ]
  },
  {
   "cell_type": "markdown",
   "id": "43107193",
   "metadata": {},
   "source": [
    "### We look at the case of the SEC"
   ]
  },
  {
   "cell_type": "code",
   "execution_count": 114,
   "id": "e3b7843f",
   "metadata": {},
   "outputs": [
    {
     "data": {
      "text/plain": [
       "Tesla CEO Elon Musk in 'clear violation' of SEC restraint, court hears           14\n",
       "SEC sues Elon Musk for fraud and seeks to bar him from leading a company          9\n",
       "Musk mocks 'Shortseller Enrichment Commission' after SEC settlement               8\n",
       "Tesla shares drop as analysts divided on Musk’s future with the company           8\n",
       "The strange saga of Elon Musk: inside his 'excruciating' year                     7\n",
       "Elon Musk's lawyers say tweet did not violate court order                         6\n",
       "Elon Musk's tweets investigated for possibly breaking law: reports                5\n",
       "Tesla: production slows amid rocky start to the new year                          5\n",
       "Tesla shareholders urged to oust Elon Musk over $55bn pay deal                    5\n",
       "Tesla to be examined by SEC over Elon Musk's 'funding secured' tweet – report     4\n",
       "Name: article_title, dtype: int64"
      ]
     },
     "execution_count": 114,
     "metadata": {},
     "output_type": "execute_result"
    }
   ],
   "source": [
    "get_top_articles_related_to_entity(ent_val=\"SEC\", ent_type=\"ORG\")"
   ]
  },
  {
   "cell_type": "code",
   "execution_count": 115,
   "id": "6777bd24",
   "metadata": {},
   "outputs": [
    {
     "data": {
      "image/png": "[encoded data removed]",
      "text/plain": [
       "<Figure size 360x360 with 1 Axes>"
      ]
     },
     "metadata": {
      "needs_background": "light"
     },
     "output_type": "display_data"
    }
   ],
   "source": [
    "get_importance_of_entity_through_time(ent_val=\"SEC\", ent_type=\"ORG\")"
   ]
  },
  {
   "cell_type": "markdown",
   "id": "77e695c2",
   "metadata": {},
   "source": [
    "##### Observations:\n",
    "\n",
    "We can deduce that Tesla motors was sued by the SEC in 2019."
   ]
  },
  {
   "cell_type": "code",
   "execution_count": null,
   "id": "5fd56c4a",
   "metadata": {},
   "outputs": [],
   "source": []
  }
 ],
 "metadata": {
  "environment": {
   "name": "common-cpu.m65",
   "type": "gcloud",
   "uri": "gcr.io/deeplearning-platform-release/base-cpu:m65"
  },
  "kernelspec": {
   "display_name": "Python 3",
   "language": "python",
   "name": "python3"
  },
  "language_info": {
   "codemirror_mode": {
    "name": "ipython",
    "version": 3
   },
   "file_extension": ".py",
   "mimetype": "text/x-python",
   "name": "python",
   "nbconvert_exporter": "python",
   "pygments_lexer": "ipython3",
   "version": "3.7.10"
  }
 },
 "nbformat": 4,
 "nbformat_minor": 5
}
