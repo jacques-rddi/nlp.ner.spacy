{
 "cells": [
  {
   "cell_type": "code",
   "execution_count": 15,
   "id": "b794e914",
   "metadata": {},
   "outputs": [],
   "source": [
    "import copy\n",
    "import spacy\n",
    "import pickle\n",
    "\n",
    "import numpy as np\n",
    "from tqdm import tqdm_notebook as tqdm "
   ]
  },
  {
   "cell_type": "code",
   "execution_count": 2,
   "id": "b3f5c333",
   "metadata": {},
   "outputs": [],
   "source": [
    "import en_core_web_trf\n",
    "nlp = en_core_web_trf.load()"
   ]
  },
  {
   "cell_type": "code",
   "execution_count": 3,
   "id": "16aee92b",
   "metadata": {},
   "outputs": [],
   "source": [
    "filename = '../../data/ner_testing.pkl'\n",
    "infile = open(filename,'rb')\n",
    "ner_testing_data = pickle.load(infile)\n",
    "infile.close()"
   ]
  },
  {
   "cell_type": "code",
   "execution_count": 4,
   "id": "1f5e4722",
   "metadata": {},
   "outputs": [
    {
     "data": {
      "text/plain": [
       "[{'string': 'EU rejects German call to boycott British lamb .',\n",
       "  'ents': [{'ent': 'ORG', 'start': 0, 'end': 2},\n",
       "   {'ent': 'MISC', 'start': 11, 'end': 17},\n",
       "   {'ent': 'MISC', 'start': 34, 'end': 41}]},\n",
       " {'string': 'Peter Blackburn',\n",
       "  'ents': [{'ent': 'PER', 'start': 0, 'end': 15}]},\n",
       " {'string': 'BRUSSELS 1996-08-22',\n",
       "  'ents': [{'ent': 'LOC', 'start': 0, 'end': 8}]},\n",
       " {'string': 'The European Commission said on Thursday it disagreed with German advice to consumers to shun British lamb until scientists determine whether mad cow disease can be transmitted to sheep .',\n",
       "  'ents': [{'ent': 'ORG', 'start': 4, 'end': 23},\n",
       "   {'ent': 'MISC', 'start': 59, 'end': 65},\n",
       "   {'ent': 'MISC', 'start': 94, 'end': 101}]},\n",
       " {'string': \"Germany's representative to the European Union's veterinary committee Werner Zwingmann said on Wednesday consumers should buy sheepmeat from countries other than Britain until the scientific advice was clearer .\",\n",
       "  'ents': [{'ent': 'LOC', 'start': 0, 'end': 6},\n",
       "   {'ent': 'ORG', 'start': 32, 'end': 45},\n",
       "   {'ent': 'PER', 'start': 70, 'end': 86},\n",
       "   {'ent': 'LOC', 'start': 162, 'end': 169}]}]"
      ]
     },
     "execution_count": 4,
     "metadata": {},
     "output_type": "execute_result"
    }
   ],
   "source": [
    "ner_testing_data[:5]"
   ]
  },
  {
   "cell_type": "code",
   "execution_count": 5,
   "id": "4f2e2f7f",
   "metadata": {},
   "outputs": [],
   "source": [
    "def change_test_data_entities_names(ent_and_string):\n",
    "    for ent in ent_and_string['ents']:\n",
    "        if ent['ent'][-3:] == \"ORG\":\n",
    "             ent['ent'] = \"ORG\"\n",
    "        elif ent['ent'][-3:] == \"PER\":\n",
    "             ent['ent'] = \"PER\"\n",
    "        elif ent['ent'][-3:] == \"LOC\":\n",
    "             ent['ent'] = \"LOC\"\n",
    "        elif ent['ent'][-4:] == \"MISC\":\n",
    "             ent['ent'] = \"NORP\"\n",
    "    return ent_and_string\n",
    "\n",
    "ner_testing_data = [change_test_data_entities_names(ent_and_string) for ent_and_string in ner_testing_data]"
   ]
  },
  {
   "cell_type": "code",
   "execution_count": 6,
   "id": "e5f8ff79",
   "metadata": {},
   "outputs": [
    {
     "data": {
      "text/plain": [
       "[{'string': 'EU rejects German call to boycott British lamb .',\n",
       "  'ents': [{'ent': 'ORG', 'start': 0, 'end': 2},\n",
       "   {'ent': 'NORP', 'start': 11, 'end': 17},\n",
       "   {'ent': 'NORP', 'start': 34, 'end': 41}]},\n",
       " {'string': 'Peter Blackburn',\n",
       "  'ents': [{'ent': 'PER', 'start': 0, 'end': 15}]},\n",
       " {'string': 'BRUSSELS 1996-08-22',\n",
       "  'ents': [{'ent': 'LOC', 'start': 0, 'end': 8}]},\n",
       " {'string': 'The European Commission said on Thursday it disagreed with German advice to consumers to shun British lamb until scientists determine whether mad cow disease can be transmitted to sheep .',\n",
       "  'ents': [{'ent': 'ORG', 'start': 4, 'end': 23},\n",
       "   {'ent': 'NORP', 'start': 59, 'end': 65},\n",
       "   {'ent': 'NORP', 'start': 94, 'end': 101}]},\n",
       " {'string': \"Germany's representative to the European Union's veterinary committee Werner Zwingmann said on Wednesday consumers should buy sheepmeat from countries other than Britain until the scientific advice was clearer .\",\n",
       "  'ents': [{'ent': 'LOC', 'start': 0, 'end': 6},\n",
       "   {'ent': 'ORG', 'start': 32, 'end': 45},\n",
       "   {'ent': 'PER', 'start': 70, 'end': 86},\n",
       "   {'ent': 'LOC', 'start': 162, 'end': 169}]}]"
      ]
     },
     "execution_count": 6,
     "metadata": {},
     "output_type": "execute_result"
    }
   ],
   "source": [
    "ner_testing_data[:5]"
   ]
  },
  {
   "cell_type": "code",
   "execution_count": 7,
   "id": "ab33ac14",
   "metadata": {},
   "outputs": [
    {
     "name": "stderr",
     "output_type": "stream",
     "text": [
      "/opt/conda/lib/python3.7/site-packages/ipykernel_launcher.py:3: TqdmDeprecationWarning: This function will be removed in tqdm==5.0.0\n",
      "Please use `tqdm.notebook.tqdm` instead of `tqdm.tqdm_notebook`\n",
      "  This is separate from the ipykernel package so we can avoid doing imports until\n"
     ]
    },
    {
     "data": {
      "application/vnd.jupyter.widget-view+json": {
       "model_id": "873cc7bb79cb4c1ab6b2281204aab36a",
       "version_major": 2,
       "version_minor": 0
      },
      "text/plain": [
       "  0%|          | 0/4000 [00:00<?, ?it/s]"
      ]
     },
     "metadata": {},
     "output_type": "display_data"
    }
   ],
   "source": [
    "spacy_ner_predictions = []\n",
    "\n",
    "for sentence in tqdm(ner_testing_data[:4000]):\n",
    "    spacy_ents_dict = {\"string\": sentence['string'], \"ents\": []}\n",
    "    for ent in nlp(sentence['string']).ents:\n",
    "        spacy_ents_dict[\"ents\"].append({\n",
    "            \"start\": ent.start_char,\n",
    "            \"end\": ent.end_char,\n",
    "            \"ent\":ent.label_\n",
    "        })\n",
    "    spacy_ner_predictions.append(spacy_ents_dict)"
   ]
  },
  {
   "cell_type": "code",
   "execution_count": 8,
   "id": "fd7540db",
   "metadata": {},
   "outputs": [
    {
     "data": {
      "text/plain": [
       "[{'string': 'EU rejects German call to boycott British lamb .',\n",
       "  'ents': [{'start': 0, 'end': 2, 'ent': 'ORG'},\n",
       "   {'start': 11, 'end': 17, 'ent': 'NORP'},\n",
       "   {'start': 34, 'end': 41, 'ent': 'NORP'}]},\n",
       " {'string': 'Peter Blackburn',\n",
       "  'ents': [{'start': 0, 'end': 15, 'ent': 'PERSON'}]},\n",
       " {'string': 'BRUSSELS 1996-08-22',\n",
       "  'ents': [{'start': 9, 'end': 19, 'ent': 'DATE'}]},\n",
       " {'string': 'The European Commission said on Thursday it disagreed with German advice to consumers to shun British lamb until scientists determine whether mad cow disease can be transmitted to sheep .',\n",
       "  'ents': [{'start': 0, 'end': 23, 'ent': 'ORG'},\n",
       "   {'start': 32, 'end': 40, 'ent': 'DATE'},\n",
       "   {'start': 59, 'end': 65, 'ent': 'NORP'},\n",
       "   {'start': 94, 'end': 101, 'ent': 'NORP'}]},\n",
       " {'string': \"Germany's representative to the European Union's veterinary committee Werner Zwingmann said on Wednesday consumers should buy sheepmeat from countries other than Britain until the scientific advice was clearer .\",\n",
       "  'ents': [{'start': 0, 'end': 7, 'ent': 'GPE'},\n",
       "   {'start': 28, 'end': 48, 'ent': 'ORG'},\n",
       "   {'start': 70, 'end': 86, 'ent': 'PERSON'},\n",
       "   {'start': 95, 'end': 104, 'ent': 'DATE'},\n",
       "   {'start': 162, 'end': 169, 'ent': 'GPE'}]}]"
      ]
     },
     "execution_count": 8,
     "metadata": {},
     "output_type": "execute_result"
    }
   ],
   "source": [
    "spacy_ner_predictions[:5]"
   ]
  },
  {
   "cell_type": "code",
   "execution_count": 9,
   "id": "3d12c480",
   "metadata": {},
   "outputs": [],
   "source": [
    "def change_spacy_entities_names(ent_and_string):\n",
    "    new_ent_and_string = {\n",
    "        \"string\": ent_and_string[\"string\"],\n",
    "        \"ents\": []\n",
    "    }\n",
    "    for ent in ent_and_string['ents']:\n",
    "        if ent['ent'] == \"ORG\":\n",
    "             new_ent_and_string['ents'].append(ent)\n",
    "        elif ent['ent'] == \"PERSON\":\n",
    "             ent['ent'] = \"PER\"\n",
    "             new_ent_and_string['ents'].append(ent)\n",
    "        elif ent['ent'] == \"GPE\":\n",
    "             ent['ent'] = \"LOC\"\n",
    "             new_ent_and_string['ents'].append(ent)\n",
    "        elif ent['ent'] == \"NORP\":\n",
    "             new_ent_and_string['ents'].append(ent)\n",
    "    return new_ent_and_string"
   ]
  },
  {
   "cell_type": "code",
   "execution_count": 10,
   "id": "199466f0",
   "metadata": {},
   "outputs": [],
   "source": [
    "filtered_spacy_ner_predictions = [change_spacy_entities_names(ent_and_string) for ent_and_string in spacy_ner_predictions]"
   ]
  },
  {
   "cell_type": "code",
   "execution_count": 11,
   "id": "493235be",
   "metadata": {},
   "outputs": [
    {
     "data": {
      "text/plain": [
       "[{'string': 'EU rejects German call to boycott British lamb .',\n",
       "  'ents': [{'start': 0, 'end': 2, 'ent': 'ORG'},\n",
       "   {'start': 11, 'end': 17, 'ent': 'NORP'},\n",
       "   {'start': 34, 'end': 41, 'ent': 'NORP'}]},\n",
       " {'string': 'Peter Blackburn',\n",
       "  'ents': [{'start': 0, 'end': 15, 'ent': 'PER'}]},\n",
       " {'string': 'BRUSSELS 1996-08-22', 'ents': []},\n",
       " {'string': 'The European Commission said on Thursday it disagreed with German advice to consumers to shun British lamb until scientists determine whether mad cow disease can be transmitted to sheep .',\n",
       "  'ents': [{'start': 0, 'end': 23, 'ent': 'ORG'},\n",
       "   {'start': 59, 'end': 65, 'ent': 'NORP'},\n",
       "   {'start': 94, 'end': 101, 'ent': 'NORP'}]},\n",
       " {'string': \"Germany's representative to the European Union's veterinary committee Werner Zwingmann said on Wednesday consumers should buy sheepmeat from countries other than Britain until the scientific advice was clearer .\",\n",
       "  'ents': [{'start': 0, 'end': 7, 'ent': 'LOC'},\n",
       "   {'start': 28, 'end': 48, 'ent': 'ORG'},\n",
       "   {'start': 70, 'end': 86, 'ent': 'PER'},\n",
       "   {'start': 162, 'end': 169, 'ent': 'LOC'}]}]"
      ]
     },
     "execution_count": 11,
     "metadata": {},
     "output_type": "execute_result"
    }
   ],
   "source": [
    "filtered_spacy_ner_predictions[:5]"
   ]
  },
  {
   "cell_type": "code",
   "execution_count": 12,
   "id": "c2459082",
   "metadata": {},
   "outputs": [],
   "source": [
    "def get_size_intersection(ent_1, ent_2):\n",
    "    return max(0, min(ent_1[\"end\"], ent_2[\"end\"]) - max(ent_1[\"start\"], ent_2[\"start\"]))\n",
    "\n",
    "def find_one_best_match(ent_1, list_of_entities_2):\n",
    "    max_overlap = 0\n",
    "    index_max_overlap = -1\n",
    "    for i, ent_2 in enumerate(list_of_entities_2):\n",
    "        if ent_2['ent'] == ent_1['ent']:\n",
    "            intersection_ent_1_ent_2 = get_size_intersection(ent_1, ent_2)\n",
    "            if intersection_ent_1_ent_2 > max_overlap:\n",
    "                index_max_overlap = i\n",
    "                max_overlap = intersection_ent_1_ent_2\n",
    "    return index_max_overlap, max_overlap\n",
    "\n",
    "def get_size_all_entities(list_of_entities):\n",
    "    size_all_enetities = 0\n",
    "    for ent in list_of_entities:\n",
    "        size_all_enetities += ent[\"end\"] - ent[\"start\"]\n",
    "    return size_all_enetities\n",
    "\n",
    "def jacquard_metrics(list_of_entities_1, list_of_entities_2):\n",
    "    list_of_entities_1 = copy.deepcopy(list_of_entities_1)\n",
    "    list_of_entities_2 = copy.deepcopy(list_of_entities_2)\n",
    "    size_of_intersection = 0\n",
    "    nb_intersec = 0\n",
    "    len1, len2 = len(list_of_entities_1), len(list_of_entities_2)\n",
    "    size_of_union = get_size_all_entities(list_of_entities_1) + get_size_all_entities(list_of_entities_2)\n",
    "    for ent_1 in list_of_entities_1:\n",
    "        index_max_overlap, max_overlap = find_one_best_match(ent_1, list_of_entities_2)\n",
    "        if index_max_overlap >= 0:\n",
    "            size_of_intersection += max_overlap\n",
    "            list_of_entities_2.pop(index_max_overlap)\n",
    "            nb_intersec += 1\n",
    "    size_of_union -= size_of_intersection # #AUB = #A + #B - #AinterB\n",
    "    \n",
    "    return [size_of_intersection / size_of_union if (size_of_union > 0) else 1,\n",
    "            size_of_intersection, size_of_union, nb_intersec / len1 if len1 > 0 else 1, nb_intersec / len2 if len2 > 0 else 1]"
   ]
  },
  {
   "cell_type": "code",
   "execution_count": 13,
   "id": "bca8a689",
   "metadata": {},
   "outputs": [],
   "source": [
    "list_of_jacquard = []\n",
    "\n",
    "for gt_ent, spacy_ent in zip(ner_testing_data, filtered_spacy_ner_predictions):\n",
    "    list_of_jacquard.append(jacquard_metrics(gt_ent['ents'], spacy_ent['ents']))"
   ]
  },
  {
   "cell_type": "code",
   "execution_count": 16,
   "id": "1c68aeac",
   "metadata": {},
   "outputs": [
    {
     "data": {
      "text/plain": [
       "0.6937174152441185"
      ]
     },
     "execution_count": 16,
     "metadata": {},
     "output_type": "execute_result"
    }
   ],
   "source": [
    "np.mean(np.array(list_of_jacquard)[:, 0])"
   ]
  },
  {
   "cell_type": "code",
   "execution_count": 17,
   "id": "8e364444",
   "metadata": {},
   "outputs": [
    {
     "data": {
      "text/plain": [
       "0.6506754703428461"
      ]
     },
     "execution_count": 17,
     "metadata": {},
     "output_type": "execute_result"
    }
   ],
   "source": [
    "np.sum(np.array(list_of_jacquard)[:, 1]) / np.sum(np.array(list_of_jacquard)[:, 2])"
   ]
  },
  {
   "cell_type": "code",
   "execution_count": 18,
   "id": "b3f6f42e",
   "metadata": {},
   "outputs": [
    {
     "data": {
      "text/plain": [
       "0.7141357697245564"
      ]
     },
     "execution_count": 18,
     "metadata": {},
     "output_type": "execute_result"
    }
   ],
   "source": [
    "np.mean(np.array(list_of_jacquard)[:, 3])"
   ]
  },
  {
   "cell_type": "code",
   "execution_count": 19,
   "id": "880b06e2",
   "metadata": {},
   "outputs": [
    {
     "data": {
      "text/plain": [
       "0.917631001984127"
      ]
     },
     "execution_count": 19,
     "metadata": {},
     "output_type": "execute_result"
    }
   ],
   "source": [
    "np.mean(np.array(list_of_jacquard)[:, 4])"
   ]
  },
  {
   "cell_type": "code",
   "execution_count": null,
   "id": "a004e065",
   "metadata": {},
   "outputs": [],
   "source": []
  }
 ],
 "metadata": {
  "environment": {
   "name": "common-cpu.m65",
   "type": "gcloud",
   "uri": "gcr.io/deeplearning-platform-release/base-cpu:m65"
  },
  "kernelspec": {
   "display_name": "Python 3",
   "language": "python",
   "name": "python3"
  },
  "language_info": {
   "codemirror_mode": {
    "name": "ipython",
    "version": 3
   },
   "file_extension": ".py",
   "mimetype": "text/x-python",
   "name": "python",
   "nbconvert_exporter": "python",
   "pygments_lexer": "ipython3",
   "version": "3.7.10"
  }
 },
 "nbformat": 4,
 "nbformat_minor": 5
}
