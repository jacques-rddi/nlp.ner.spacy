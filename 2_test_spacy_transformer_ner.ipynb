{
 "cells": [
  {
   "cell_type": "markdown",
   "id": "cba6c6b6",
   "metadata": {},
   "source": [
    "# Assessing spaCy NER performances\n",
    "\n",
    "This notebook aim to evaluate spaCy performance to find persones, organisation and Location entities. We used the pretrained transformer model `en_core_web_trf`.\n",
    "\n",
    "To do so we use the dataset CoNLL003 (English-version) available on kaggle at the following [link](https://www.kaggle.com/alaakhaled/conll003-englishversion). We formated the data in the notebook `1_reformat_data.ipynb` in order to make it compatible with the spaCy model.\n",
    "\n",
    "## Imports"
   ]
  },
  {
   "cell_type": "code",
   "execution_count": 1,
   "id": "b1b58716",
   "metadata": {},
   "outputs": [],
   "source": [
    "import copy\n",
    "import spacy\n",
    "import pickle\n",
    "\n",
    "import numpy as np\n",
    "from tqdm import tqdm_notebook as tqdm "
   ]
  },
  {
   "cell_type": "markdown",
   "id": "e0d56615",
   "metadata": {},
   "source": [
    "## Model loadig\n",
    "\n",
    "We load the transformer based NER model from spaCy `en_core_web_trf`."
   ]
  },
  {
   "cell_type": "code",
   "execution_count": 2,
   "id": "098f3e7b",
   "metadata": {},
   "outputs": [],
   "source": [
    "import en_core_web_trf\n",
    "nlp = en_core_web_trf.load()"
   ]
  },
  {
   "cell_type": "markdown",
   "id": "c684610e",
   "metadata": {},
   "source": [
    "## Data Loading\n",
    "\n",
    "We load the data reformated in a dictionnairy from the pickle file created by the notebook `1_reformat_data.ipynb`."
   ]
  },
  {
   "cell_type": "code",
   "execution_count": 3,
   "id": "720bd09c",
   "metadata": {},
   "outputs": [],
   "source": [
    "filename = '../../data/ner_testing.pkl'\n",
    "infile = open(filename,'rb')\n",
    "ner_testing_data = pickle.load(infile)\n",
    "infile.close()"
   ]
  },
  {
   "cell_type": "markdown",
   "id": "a36b1715",
   "metadata": {},
   "source": [
    "### Quick view of the first 5 testing sentences"
   ]
  },
  {
   "cell_type": "code",
   "execution_count": 4,
   "id": "6a874b8d",
   "metadata": {},
   "outputs": [
    {
     "data": {
      "text/plain": [
       "[{'string': 'EU rejects German call to boycott British lamb .',\n",
       "  'ents': [{'ent': 'ORG', 'start': 0, 'end': 2},\n",
       "   {'ent': 'MISC', 'start': 11, 'end': 17},\n",
       "   {'ent': 'MISC', 'start': 34, 'end': 41}]},\n",
       " {'string': 'Peter Blackburn',\n",
       "  'ents': [{'ent': 'PER', 'start': 0, 'end': 15}]},\n",
       " {'string': 'BRUSSELS 1996-08-22',\n",
       "  'ents': [{'ent': 'LOC', 'start': 0, 'end': 8}]},\n",
       " {'string': 'The European Commission said on Thursday it disagreed with German advice to consumers to shun British lamb until scientists determine whether mad cow disease can be transmitted to sheep .',\n",
       "  'ents': [{'ent': 'ORG', 'start': 4, 'end': 23},\n",
       "   {'ent': 'MISC', 'start': 59, 'end': 65},\n",
       "   {'ent': 'MISC', 'start': 94, 'end': 101}]},\n",
       " {'string': \"Germany's representative to the European Union's veterinary committee Werner Zwingmann said on Wednesday consumers should buy sheepmeat from countries other than Britain until the scientific advice was clearer .\",\n",
       "  'ents': [{'ent': 'LOC', 'start': 0, 'end': 6},\n",
       "   {'ent': 'ORG', 'start': 32, 'end': 45},\n",
       "   {'ent': 'PER', 'start': 70, 'end': 86},\n",
       "   {'ent': 'LOC', 'start': 162, 'end': 169}]}]"
      ]
     },
     "execution_count": 4,
     "metadata": {},
     "output_type": "execute_result"
    }
   ],
   "source": [
    "ner_testing_data[:5]"
   ]
  },
  {
   "cell_type": "markdown",
   "id": "7fc9a817",
   "metadata": {},
   "source": [
    "## Data preprocessing \n",
    "\n",
    "We need to change the names of the entities, so that they will be the same than the one created by the spaCy model. We also try to use entity names which make sense."
   ]
  },
  {
   "cell_type": "code",
   "execution_count": 5,
   "id": "bdce3477",
   "metadata": {},
   "outputs": [],
   "source": [
    "def change_test_data_entities_names(ent_and_string):\n",
    "    for ent in ent_and_string['ents']:\n",
    "        if ent['ent'][-3:] == \"ORG\":\n",
    "             ent['ent'] = \"ORG\"\n",
    "        elif ent['ent'][-3:] == \"PER\":\n",
    "             ent['ent'] = \"PER\"\n",
    "        elif ent['ent'][-3:] == \"LOC\":\n",
    "             ent['ent'] = \"LOC\"\n",
    "        elif ent['ent'][-4:] == \"MISC\":\n",
    "             ent['ent'] = \"NORP\"\n",
    "    return ent_and_string\n",
    "\n",
    "ner_testing_data = [change_test_data_entities_names(ent_and_string) for ent_and_string in ner_testing_data]"
   ]
  },
  {
   "cell_type": "markdown",
   "id": "2c8cc0df",
   "metadata": {},
   "source": [
    "### Quick look at the result of the pre-processing "
   ]
  },
  {
   "cell_type": "code",
   "execution_count": 6,
   "id": "323b002a",
   "metadata": {},
   "outputs": [
    {
     "data": {
      "text/plain": [
       "[{'string': 'EU rejects German call to boycott British lamb .',\n",
       "  'ents': [{'ent': 'ORG', 'start': 0, 'end': 2},\n",
       "   {'ent': 'NORP', 'start': 11, 'end': 17},\n",
       "   {'ent': 'NORP', 'start': 34, 'end': 41}]},\n",
       " {'string': 'Peter Blackburn',\n",
       "  'ents': [{'ent': 'PER', 'start': 0, 'end': 15}]},\n",
       " {'string': 'BRUSSELS 1996-08-22',\n",
       "  'ents': [{'ent': 'LOC', 'start': 0, 'end': 8}]},\n",
       " {'string': 'The European Commission said on Thursday it disagreed with German advice to consumers to shun British lamb until scientists determine whether mad cow disease can be transmitted to sheep .',\n",
       "  'ents': [{'ent': 'ORG', 'start': 4, 'end': 23},\n",
       "   {'ent': 'NORP', 'start': 59, 'end': 65},\n",
       "   {'ent': 'NORP', 'start': 94, 'end': 101}]},\n",
       " {'string': \"Germany's representative to the European Union's veterinary committee Werner Zwingmann said on Wednesday consumers should buy sheepmeat from countries other than Britain until the scientific advice was clearer .\",\n",
       "  'ents': [{'ent': 'LOC', 'start': 0, 'end': 6},\n",
       "   {'ent': 'ORG', 'start': 32, 'end': 45},\n",
       "   {'ent': 'PER', 'start': 70, 'end': 86},\n",
       "   {'ent': 'LOC', 'start': 162, 'end': 169}]}]"
      ]
     },
     "execution_count": 6,
     "metadata": {},
     "output_type": "execute_result"
    }
   ],
   "source": [
    "ner_testing_data[:5]"
   ]
  },
  {
   "cell_type": "markdown",
   "id": "c8ce5618",
   "metadata": {},
   "source": [
    "## Application of the model on the data\n",
    "We will only use a test set of 4000 sentences."
   ]
  },
  {
   "cell_type": "code",
   "execution_count": 7,
   "id": "bda86a07",
   "metadata": {},
   "outputs": [
    {
     "name": "stderr",
     "output_type": "stream",
     "text": [
      "/opt/conda/lib/python3.7/site-packages/ipykernel_launcher.py:5: TqdmDeprecationWarning: This function will be removed in tqdm==5.0.0\n",
      "Please use `tqdm.notebook.tqdm` instead of `tqdm.tqdm_notebook`\n",
      "  \"\"\"\n"
     ]
    },
    {
     "data": {
      "application/vnd.jupyter.widget-view+json": {
       "model_id": "195eeca8e81b4462ad21d3c1c2ff1978",
       "version_major": 2,
       "version_minor": 0
      },
      "text/plain": [
       "  0%|          | 0/4000 [00:00<?, ?it/s]"
      ]
     },
     "metadata": {},
     "output_type": "display_data"
    }
   ],
   "source": [
    "# Create the list which will contain all the results\n",
    "spacy_ner_predictions = []\n",
    "\n",
    "# Loop over the sentences of the testing set\n",
    "for sentence in tqdm(ner_testing_data[:4000]):\n",
    "    # Build the dictionnairy which will contain the NER prediction for the current sentence\n",
    "    spacy_ents_dict = {\"string\": sentence['string'], \"ents\": []}\n",
    "    # Apply the spaCy NER model and loop over the entities\n",
    "    for ent in nlp(sentence['string']).ents:\n",
    "        # Append a dictionnairy containing each enety found\n",
    "        spacy_ents_dict[\"ents\"].append({\n",
    "            \"start\": ent.start_char,\n",
    "            \"end\": ent.end_char,\n",
    "            \"ent\":ent.label_\n",
    "        })\n",
    "    # Append the predictions on the sentence\n",
    "    spacy_ner_predictions.append(spacy_ents_dict)"
   ]
  },
  {
   "cell_type": "markdown",
   "id": "9bd2e08c",
   "metadata": {},
   "source": [
    "## Quick look at the first predictions"
   ]
  },
  {
   "cell_type": "code",
   "execution_count": 8,
   "id": "596d1fbf",
   "metadata": {},
   "outputs": [
    {
     "data": {
      "text/plain": [
       "4000"
      ]
     },
     "execution_count": 8,
     "metadata": {},
     "output_type": "execute_result"
    }
   ],
   "source": [
    "len(spacy_ner_predictions)"
   ]
  },
  {
   "cell_type": "code",
   "execution_count": 9,
   "id": "1b6c9983",
   "metadata": {},
   "outputs": [
    {
     "data": {
      "text/plain": [
       "[{'string': 'EU rejects German call to boycott British lamb .',\n",
       "  'ents': [{'start': 0, 'end': 2, 'ent': 'ORG'},\n",
       "   {'start': 11, 'end': 17, 'ent': 'NORP'},\n",
       "   {'start': 34, 'end': 41, 'ent': 'NORP'}]},\n",
       " {'string': 'Peter Blackburn',\n",
       "  'ents': [{'start': 0, 'end': 15, 'ent': 'PERSON'}]},\n",
       " {'string': 'BRUSSELS 1996-08-22',\n",
       "  'ents': [{'start': 9, 'end': 19, 'ent': 'DATE'}]},\n",
       " {'string': 'The European Commission said on Thursday it disagreed with German advice to consumers to shun British lamb until scientists determine whether mad cow disease can be transmitted to sheep .',\n",
       "  'ents': [{'start': 0, 'end': 23, 'ent': 'ORG'},\n",
       "   {'start': 32, 'end': 40, 'ent': 'DATE'},\n",
       "   {'start': 59, 'end': 65, 'ent': 'NORP'},\n",
       "   {'start': 94, 'end': 101, 'ent': 'NORP'}]},\n",
       " {'string': \"Germany's representative to the European Union's veterinary committee Werner Zwingmann said on Wednesday consumers should buy sheepmeat from countries other than Britain until the scientific advice was clearer .\",\n",
       "  'ents': [{'start': 0, 'end': 7, 'ent': 'GPE'},\n",
       "   {'start': 28, 'end': 48, 'ent': 'ORG'},\n",
       "   {'start': 70, 'end': 86, 'ent': 'PERSON'},\n",
       "   {'start': 95, 'end': 104, 'ent': 'DATE'},\n",
       "   {'start': 162, 'end': 169, 'ent': 'GPE'}]}]"
      ]
     },
     "execution_count": 9,
     "metadata": {},
     "output_type": "execute_result"
    }
   ],
   "source": [
    "spacy_ner_predictions[:5]"
   ]
  },
  {
   "cell_type": "markdown",
   "id": "6dc762f3",
   "metadata": {},
   "source": [
    "## Post-processing\n",
    "We change the names of some entities to make it compatible with what we use for the ground truth. And we filter all the entities we don't have grounnd truth for."
   ]
  },
  {
   "cell_type": "code",
   "execution_count": 10,
   "id": "52e6c240",
   "metadata": {},
   "outputs": [],
   "source": [
    "def change_spacy_entities_names(ent_and_string):\n",
    "    new_ent_and_string = {\n",
    "        \"string\": ent_and_string[\"string\"],\n",
    "        \"ents\": []\n",
    "    }\n",
    "    for ent in ent_and_string['ents']:\n",
    "        if ent['ent'] == \"ORG\":\n",
    "             new_ent_and_string['ents'].append(ent)\n",
    "        elif ent['ent'] == \"PERSON\":\n",
    "             ent['ent'] = \"PER\"\n",
    "             new_ent_and_string['ents'].append(ent)\n",
    "        elif ent['ent'] == \"GPE\":\n",
    "             ent['ent'] = \"LOC\"\n",
    "             new_ent_and_string['ents'].append(ent)\n",
    "        elif ent['ent'] == \"NORP\":\n",
    "             new_ent_and_string['ents'].append(ent)\n",
    "    return new_ent_and_string"
   ]
  },
  {
   "cell_type": "code",
   "execution_count": 11,
   "id": "dc4f3dd3",
   "metadata": {},
   "outputs": [],
   "source": [
    "filtered_spacy_ner_predictions = [change_spacy_entities_names(ent_and_string) for ent_and_string in spacy_ner_predictions]"
   ]
  },
  {
   "cell_type": "code",
   "execution_count": 12,
   "id": "91ccbefc",
   "metadata": {},
   "outputs": [
    {
     "data": {
      "text/plain": [
       "[{'string': 'EU rejects German call to boycott British lamb .',\n",
       "  'ents': [{'start': 0, 'end': 2, 'ent': 'ORG'},\n",
       "   {'start': 11, 'end': 17, 'ent': 'NORP'},\n",
       "   {'start': 34, 'end': 41, 'ent': 'NORP'}]},\n",
       " {'string': 'Peter Blackburn',\n",
       "  'ents': [{'start': 0, 'end': 15, 'ent': 'PER'}]},\n",
       " {'string': 'BRUSSELS 1996-08-22', 'ents': []},\n",
       " {'string': 'The European Commission said on Thursday it disagreed with German advice to consumers to shun British lamb until scientists determine whether mad cow disease can be transmitted to sheep .',\n",
       "  'ents': [{'start': 0, 'end': 23, 'ent': 'ORG'},\n",
       "   {'start': 59, 'end': 65, 'ent': 'NORP'},\n",
       "   {'start': 94, 'end': 101, 'ent': 'NORP'}]},\n",
       " {'string': \"Germany's representative to the European Union's veterinary committee Werner Zwingmann said on Wednesday consumers should buy sheepmeat from countries other than Britain until the scientific advice was clearer .\",\n",
       "  'ents': [{'start': 0, 'end': 7, 'ent': 'LOC'},\n",
       "   {'start': 28, 'end': 48, 'ent': 'ORG'},\n",
       "   {'start': 70, 'end': 86, 'ent': 'PER'},\n",
       "   {'start': 162, 'end': 169, 'ent': 'LOC'}]}]"
      ]
     },
     "execution_count": 12,
     "metadata": {},
     "output_type": "execute_result"
    }
   ],
   "source": [
    "filtered_spacy_ner_predictions[:5]"
   ]
  },
  {
   "cell_type": "markdown",
   "id": "5496c041",
   "metadata": {},
   "source": [
    "## Scoring function\n",
    "\n",
    "In this section we build the function to see how close are the spaCy model prediction from the ground truth."
   ]
  },
  {
   "cell_type": "code",
   "execution_count": 13,
   "id": "ed93ecc0",
   "metadata": {},
   "outputs": [],
   "source": [
    "def get_size_intersection(ent_1, ent_2):\n",
    "    \"\"\"\n",
    "    Look at the size of the intersection on the two entities.\n",
    "    \"\"\"\n",
    "    return max(0, min(ent_1[\"end\"], ent_2[\"end\"]) - max(ent_1[\"start\"], ent_2[\"start\"]))\n",
    "\n",
    "def find_one_best_match(ent_1, list_of_entities_2):\n",
    "    \"\"\"\n",
    "    Find the best match of the entity `ent_1` in the list of entities \n",
    "    `list_of_entities_2`.\n",
    "    \"\"\"\n",
    "    max_overlap = 0\n",
    "    index_max_overlap = -1\n",
    "    for i, ent_2 in enumerate(list_of_entities_2):\n",
    "        # Make sure that the entities have the same type \n",
    "        if ent_2['ent'] == ent_1['ent']:\n",
    "            intersection_ent_1_ent_2 = get_size_intersection(ent_1, ent_2)\n",
    "            # If the new candidate has a better overlape with,\n",
    "            # ent_1 we keep it as the current best match\n",
    "            if intersection_ent_1_ent_2 > max_overlap:\n",
    "                index_max_overlap = i\n",
    "                max_overlap = intersection_ent_1_ent_2\n",
    "    # Return the index of the entity with the best overlap in `list_of_entities_2`\n",
    "    # as well as the associated overlap\n",
    "    return index_max_overlap, max_overlap\n",
    "\n",
    "def get_size_all_entities(list_of_entities):\n",
    "    \"\"\"\n",
    "    Get the size of all the eneties in the list of entities\n",
    "    `list_of_entities`.\n",
    "    \"\"\"\n",
    "    size_all_enetities = 0\n",
    "    for ent in list_of_entities:\n",
    "        size_all_enetities += ent[\"end\"] - ent[\"start\"]\n",
    "    return size_all_enetities\n",
    "\n",
    "def jacquard_metrics(list_of_entities_1, list_of_entities_2):\n",
    "    \"\"\"\n",
    "    Compute the jacquard metrics between the tow list of entities given in parameters.\n",
    "    Also return the size of intersection, the size of the union, and the number of \n",
    "    entities with an non void intersection divided by either the number of entities in \n",
    "    list 1 or the number of entities in list two.\n",
    "    \"\"\"\n",
    "    list_of_entities_1 = copy.deepcopy(list_of_entities_1)\n",
    "    list_of_entities_2 = copy.deepcopy(list_of_entities_2)\n",
    "    size_of_intersection = 0\n",
    "    nb_intersec = 0\n",
    "    len1, len2 = len(list_of_entities_1), len(list_of_entities_2)\n",
    "    size_of_union = get_size_all_entities(list_of_entities_1) + get_size_all_entities(list_of_entities_2)\n",
    "    for ent_1 in list_of_entities_1:\n",
    "        index_max_overlap, max_overlap = find_one_best_match(ent_1, list_of_entities_2)\n",
    "        if index_max_overlap >= 0:\n",
    "            size_of_intersection += max_overlap\n",
    "            list_of_entities_2.pop(index_max_overlap)\n",
    "            nb_intersec += 1\n",
    "    size_of_union -= size_of_intersection # #AUB = #A + #B - #AinterB\n",
    "    \n",
    "    return [size_of_intersection / size_of_union if (size_of_union > 0) else 1,\n",
    "            size_of_intersection, size_of_union,\n",
    "            nb_intersec / len1 if len1 > 0 else 1, nb_intersec / len2 if len2 > 0 else 1]"
   ]
  },
  {
   "cell_type": "markdown",
   "id": "967e3d56",
   "metadata": {},
   "source": [
    "## Compute the scoring metrics for each sentence in the test set"
   ]
  },
  {
   "cell_type": "code",
   "execution_count": 15,
   "id": "7f42145b",
   "metadata": {},
   "outputs": [],
   "source": [
    "list_of_jacquard = []\n",
    "\n",
    "for gt_ent, spacy_ent in zip(ner_testing_data, filtered_spacy_ner_predictions):\n",
    "    list_of_jacquard.append(jacquard_metrics(gt_ent['ents'], spacy_ent['ents']))"
   ]
  },
  {
   "cell_type": "markdown",
   "id": "ec6703b2",
   "metadata": {},
   "source": [
    "### Average Jacquard metrics"
   ]
  },
  {
   "cell_type": "code",
   "execution_count": 17,
   "id": "e27d3f49",
   "metadata": {},
   "outputs": [
    {
     "name": "stdout",
     "output_type": "stream",
     "text": [
      "69.37 %\n"
     ]
    }
   ],
   "source": [
    "print(round(100 * np.mean(np.array(list_of_jacquard)[:, 0]), 2), \"%\")"
   ]
  },
  {
   "cell_type": "markdown",
   "id": "51664ab3",
   "metadata": {},
   "source": [
    "### Size of the interesection of all entities over all sentence divided by the size of the union"
   ]
  },
  {
   "cell_type": "code",
   "execution_count": 18,
   "id": "57329115",
   "metadata": {},
   "outputs": [
    {
     "name": "stdout",
     "output_type": "stream",
     "text": [
      "65.07 %\n"
     ]
    }
   ],
   "source": [
    "print(round(100 * np.sum(np.array(list_of_jacquard)[:, 1]) / np.sum(np.array(list_of_jacquard)[:, 2]), 2), \"%\")"
   ]
  },
  {
   "cell_type": "markdown",
   "id": "7da771d3",
   "metadata": {},
   "source": [
    "### Recall of the spaCy NER model"
   ]
  },
  {
   "cell_type": "code",
   "execution_count": 19,
   "id": "3d9e3d54",
   "metadata": {},
   "outputs": [
    {
     "name": "stdout",
     "output_type": "stream",
     "text": [
      "71.41 %\n"
     ]
    }
   ],
   "source": [
    "print(round(100 *np.mean(np.array(list_of_jacquard)[:, 3]), 2), \"%\")"
   ]
  },
  {
   "cell_type": "markdown",
   "id": "3d1e1445",
   "metadata": {},
   "source": [
    "### Precision of the spaCy NER model"
   ]
  },
  {
   "cell_type": "code",
   "execution_count": 20,
   "id": "9c2866cb",
   "metadata": {},
   "outputs": [
    {
     "name": "stdout",
     "output_type": "stream",
     "text": [
      "91.76 %\n"
     ]
    }
   ],
   "source": [
    "print(round(100 *np.mean(np.array(list_of_jacquard)[:, 4]), 2), \"%\")"
   ]
  },
  {
   "cell_type": "code",
   "execution_count": null,
   "id": "09cb030a",
   "metadata": {},
   "outputs": [],
   "source": []
  }
 ],
 "metadata": {
  "environment": {
   "name": "common-cpu.m65",
   "type": "gcloud",
   "uri": "gcr.io/deeplearning-platform-release/base-cpu:m65"
  },
  "kernelspec": {
   "display_name": "Python 3",
   "language": "python",
   "name": "python3"
  },
  "language_info": {
   "codemirror_mode": {
    "name": "ipython",
    "version": 3
   },
   "file_extension": ".py",
   "mimetype": "text/x-python",
   "name": "python",
   "nbconvert_exporter": "python",
   "pygments_lexer": "ipython3",
   "version": "3.7.10"
  }
 },
 "nbformat": 4,
 "nbformat_minor": 5
}
