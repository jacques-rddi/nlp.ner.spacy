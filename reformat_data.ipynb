{
 "cells": [
  {
   "cell_type": "code",
   "execution_count": 1,
   "id": "2865d3ba",
   "metadata": {},
   "outputs": [],
   "source": [
    "f = open(\"../../data/conll2003.txt\", \"r\")\n",
    "whole_text = f.read()"
   ]
  },
  {
   "cell_type": "code",
   "execution_count": 5,
   "id": "1fedb8f8",
   "metadata": {},
   "outputs": [
    {
     "name": "stdout",
     "output_type": "stream",
     "text": [
      "EU\tB-ORG\n",
      "rejects\tO\n",
      "German\tB-MISC\n",
      "call\tO\n",
      "to\tO\n",
      "boycott\tO\n",
      "British\tB-MISC\n",
      "lamb\tO\n",
      ".\tO\n",
      "\n",
      "Peter\tB-PER\n",
      "Blackburn\tI-PER\n",
      "\n",
      "BRUSSELS\tB-LOC\n",
      "1996-08-22\tO\n",
      "\n",
      "The\tO\n",
      "Euro\n"
     ]
    }
   ],
   "source": [
    "print(whole_text[:150])"
   ]
  },
  {
   "cell_type": "code",
   "execution_count": 7,
   "id": "58c573fc",
   "metadata": {},
   "outputs": [],
   "source": [
    "sentences = whole_text.split(\"\\n\\n\")\n",
    "tokenized_sentences = [[t.split(\"\\t\") for t in s.split(\"\\n\")] for s in sentences]"
   ]
  },
  {
   "cell_type": "code",
   "execution_count": 11,
   "id": "579aa79e",
   "metadata": {},
   "outputs": [
    {
     "data": {
      "text/plain": [
       "[[['EU', 'B-ORG'],\n",
       "  ['rejects', 'O'],\n",
       "  ['German', 'B-MISC'],\n",
       "  ['call', 'O'],\n",
       "  ['to', 'O'],\n",
       "  ['boycott', 'O'],\n",
       "  ['British', 'B-MISC'],\n",
       "  ['lamb', 'O'],\n",
       "  ['.', 'O']],\n",
       " [['Peter', 'B-PER'], ['Blackburn', 'I-PER']],\n",
       " [['BRUSSELS', 'B-LOC'], ['1996-08-22', 'O']]]"
      ]
     },
     "execution_count": 11,
     "metadata": {},
     "output_type": "execute_result"
    }
   ],
   "source": [
    "tokenized_sentences[:3]"
   ]
  },
  {
   "cell_type": "code",
   "execution_count": 9,
   "id": "61d5c521",
   "metadata": {},
   "outputs": [],
   "source": [
    "import copy\n",
    "from tqdm import tqdm_notebook as tqdm"
   ]
  },
  {
   "cell_type": "code",
   "execution_count": 29,
   "id": "0683423b",
   "metadata": {},
   "outputs": [],
   "source": [
    "import string"
   ]
  },
  {
   "cell_type": "code",
   "execution_count": 31,
   "id": "e1da641e",
   "metadata": {},
   "outputs": [
    {
     "data": {
      "text/plain": [
       "True"
      ]
     },
     "execution_count": 31,
     "metadata": {},
     "output_type": "execute_result"
    }
   ],
   "source": [
    "\"abc\".isalpha()"
   ]
  },
  {
   "cell_type": "code",
   "execution_count": 60,
   "id": "c4e7ecf3",
   "metadata": {},
   "outputs": [
    {
     "name": "stderr",
     "output_type": "stream",
     "text": [
      "/opt/conda/lib/python3.7/site-packages/ipykernel_launcher.py:3: TqdmDeprecationWarning: This function will be removed in tqdm==5.0.0\n",
      "Please use `tqdm.notebook.tqdm` instead of `tqdm.tqdm_notebook`\n",
      "  This is separate from the ipykernel package so we can avoid doing imports until\n"
     ]
    },
    {
     "data": {
      "application/vnd.jupyter.widget-view+json": {
       "model_id": "2977dcc788694f47ba95f199f4f6164c",
       "version_major": 2,
       "version_minor": 0
      },
      "text/plain": [
       "  0%|          | 0/14040 [00:00<?, ?it/s]"
      ]
     },
     "metadata": {},
     "output_type": "display_data"
    }
   ],
   "source": [
    "all_sentence_and_list_of_ents = []\n",
    "\n",
    "for sentence in tqdm(tokenized_sentences[:-2]):\n",
    "    string_sentence = \"\"\n",
    "    cureent_ent = 'O'\n",
    "\n",
    "    list_of_entities = []\n",
    "    current_entity_dict = {}\n",
    "    first_token = True\n",
    "    for t_ent  in sentence:\n",
    "#         if(len(t_ent) != 2):\n",
    "#         print(\"t_ent : \", t_ent)\n",
    "        \n",
    "        t, ent = t_ent[0], t_ent[1].split('-')[-1]\n",
    "\n",
    "        if (not first_token) and (not \"'\" in t):\n",
    "            string_sentence += \" \"\n",
    "        string_sentence += t\n",
    "        \n",
    "        if cureent_ent != ent:\n",
    "            if cureent_ent != 'O':\n",
    "                current_entity_dict[\"end\"] = len(string_sentence) - len(t) - 1\n",
    "                list_of_entities.append(copy.deepcopy(current_entity_dict))\n",
    "                current_entity_dict = {}\n",
    "                \n",
    "            if ent != 'O':\n",
    "                current_entity_dict['ent'] = ent\n",
    "                current_entity_dict['start'] = len(string_sentence) - len(t)\n",
    "        cureent_ent = ent\n",
    "        first_token = False\n",
    "    if cureent_ent != 'O':\n",
    "                current_entity_dict[\"end\"] = len(string_sentence)\n",
    "                list_of_entities.append(copy.deepcopy(current_entity_dict))\n",
    "                current_entity_dict = {}\n",
    "    all_sentence_and_list_of_ents.append({\"string\": string_sentence, \"ents\": list_of_entities})\n",
    "#     break\n",
    "\n",
    "    "
   ]
  },
  {
   "cell_type": "code",
   "execution_count": 61,
   "id": "963f63f5",
   "metadata": {},
   "outputs": [
    {
     "data": {
      "text/plain": [
       "[{'string': 'EU rejects German call to boycott British lamb .',\n",
       "  'ents': [{'ent': 'ORG', 'start': 0, 'end': 2},\n",
       "   {'ent': 'MISC', 'start': 11, 'end': 17},\n",
       "   {'ent': 'MISC', 'start': 34, 'end': 41}]},\n",
       " {'string': 'Peter Blackburn',\n",
       "  'ents': [{'ent': 'PER', 'start': 0, 'end': 15}]},\n",
       " {'string': 'BRUSSELS 1996-08-22',\n",
       "  'ents': [{'ent': 'LOC', 'start': 0, 'end': 8}]},\n",
       " {'string': 'The European Commission said on Thursday it disagreed with German advice to consumers to shun British lamb until scientists determine whether mad cow disease can be transmitted to sheep .',\n",
       "  'ents': [{'ent': 'ORG', 'start': 4, 'end': 23},\n",
       "   {'ent': 'MISC', 'start': 59, 'end': 65},\n",
       "   {'ent': 'MISC', 'start': 94, 'end': 101}]},\n",
       " {'string': \"Germany's representative to the European Union's veterinary committee Werner Zwingmann said on Wednesday consumers should buy sheepmeat from countries other than Britain until the scientific advice was clearer .\",\n",
       "  'ents': [{'ent': 'LOC', 'start': 0, 'end': 6},\n",
       "   {'ent': 'ORG', 'start': 32, 'end': 45},\n",
       "   {'ent': 'PER', 'start': 70, 'end': 86},\n",
       "   {'ent': 'LOC', 'start': 162, 'end': 169}]}]"
      ]
     },
     "execution_count": 61,
     "metadata": {},
     "output_type": "execute_result"
    }
   ],
   "source": [
    "all_sentence_and_list_of_ents[:5]"
   ]
  },
  {
   "cell_type": "code",
   "execution_count": 62,
   "id": "87530229",
   "metadata": {},
   "outputs": [
    {
     "data": {
      "text/plain": [
       "{'string': 'EU rejects German call to boycott British lamb .',\n",
       " 'ents': [{'ent': 'ORG', 'start': 0, 'end': 2},\n",
       "  {'ent': 'MISC', 'start': 11, 'end': 17},\n",
       "  {'ent': 'MISC', 'start': 34, 'end': 41}]}"
      ]
     },
     "execution_count": 62,
     "metadata": {},
     "output_type": "execute_result"
    }
   ],
   "source": [
    "all_sentence_and_list_of_ents[0]"
   ]
  },
  {
   "cell_type": "code",
   "execution_count": 63,
   "id": "f95c0043",
   "metadata": {},
   "outputs": [
    {
     "data": {
      "text/plain": [
       "'EU'"
      ]
     },
     "execution_count": 63,
     "metadata": {},
     "output_type": "execute_result"
    }
   ],
   "source": [
    "all_sentence_and_list_of_ents[0]['string'][0:2]"
   ]
  },
  {
   "cell_type": "code",
   "execution_count": 64,
   "id": "c8fd471b",
   "metadata": {},
   "outputs": [
    {
     "data": {
      "text/plain": [
       "'German'"
      ]
     },
     "execution_count": 64,
     "metadata": {},
     "output_type": "execute_result"
    }
   ],
   "source": [
    "all_sentence_and_list_of_ents[0]['string'][11:17]"
   ]
  },
  {
   "cell_type": "code",
   "execution_count": 65,
   "id": "16909993",
   "metadata": {},
   "outputs": [
    {
     "data": {
      "text/plain": [
       "'British'"
      ]
     },
     "execution_count": 65,
     "metadata": {},
     "output_type": "execute_result"
    }
   ],
   "source": [
    "all_sentence_and_list_of_ents[0]['string'][34:41]"
   ]
  },
  {
   "cell_type": "code",
   "execution_count": 66,
   "id": "31371e64",
   "metadata": {},
   "outputs": [],
   "source": [
    "import pickle\n",
    "filename = '../../data/ner_testing.pkl'\n",
    "outfile = open(filename,'wb')\n",
    "pickle.dump(all_sentence_and_list_of_ents,outfile)\n",
    "outfile.close()"
   ]
  },
  {
   "cell_type": "code",
   "execution_count": null,
   "id": "bc01a0ad",
   "metadata": {},
   "outputs": [],
   "source": []
  }
 ],
 "metadata": {
  "environment": {
   "name": "common-cpu.m65",
   "type": "gcloud",
   "uri": "gcr.io/deeplearning-platform-release/base-cpu:m65"
  },
  "kernelspec": {
   "display_name": "Python 3",
   "language": "python",
   "name": "python3"
  },
  "language_info": {
   "codemirror_mode": {
    "name": "ipython",
    "version": 3
   },
   "file_extension": ".py",
   "mimetype": "text/x-python",
   "name": "python",
   "nbconvert_exporter": "python",
   "pygments_lexer": "ipython3",
   "version": "3.7.10"
  }
 },
 "nbformat": 4,
 "nbformat_minor": 5
}
