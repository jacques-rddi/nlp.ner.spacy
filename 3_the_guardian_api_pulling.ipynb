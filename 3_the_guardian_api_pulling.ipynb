{
 "cells": [
  {
   "cell_type": "code",
   "execution_count": 90,
   "id": "58358d30",
   "metadata": {},
   "outputs": [],
   "source": [
    "import re\n",
    "import copy\n",
    "\n",
    "import pandas as pd\n",
    "\n",
    "from time import sleep\n",
    "from datetime import datetime\n",
    "from tqdm.notebook import tqdm\n",
    "\n",
    "from bs4 import BeautifulSoup\n",
    "\n",
    "from theguardian import theguardian_tag\n",
    "from theguardian import theguardian_content\n"
   ]
  },
  {
   "cell_type": "code",
   "execution_count": 84,
   "id": "c26af4f2",
   "metadata": {},
   "outputs": [],
   "source": [
    "def get_query_results(q, section):\n",
    "    # get the apple tags\n",
    "    headers = {\n",
    "        \"q\": q,\n",
    "        \"section\": section,\n",
    "    }\n",
    "    tag = theguardian_tag.Tag(api=API_KEY, **headers)\n",
    "\n",
    "    # get the results\n",
    "    tag_content = tag.get_content_response()\n",
    "    results = tag.get_results(tag_content)\n",
    "    return results"
   ]
  },
  {
   "cell_type": "code",
   "execution_count": 91,
   "id": "d692b307",
   "metadata": {},
   "outputs": [
    {
     "data": {
      "text/plain": [
       "[{'id': 'technology/tesla',\n",
       "  'type': 'keyword',\n",
       "  'sectionId': 'technology',\n",
       "  'sectionName': 'Technology',\n",
       "  'webTitle': 'Tesla',\n",
       "  'webUrl': 'https://www.theguardian.com/technology/tesla',\n",
       "  'apiUrl': 'https://content.guardianapis.com/technology/tesla',\n",
       "  'description': 'Tesla is an automotive and energy storage company that designs, manufactures, and sells electric cars, electric vehicle powertrain components, and battery products.'}]"
      ]
     },
     "execution_count": 91,
     "metadata": {},
     "output_type": "execute_result"
    }
   ],
   "source": [
    "results = get_query_results(\"tesla\", 'technology')\n",
    "results"
   ]
  },
  {
   "cell_type": "code",
   "execution_count": 117,
   "id": "a49d91bf",
   "metadata": {},
   "outputs": [],
   "source": [
    "def get_list_of_article_url(tag_apiUrl):\n",
    "    content = theguardian_content.Content(api=API_KEY, url=tag_apiUrl)#,  page=41)\n",
    "    content_response = content.get_content_response()\n",
    "    nb_pages = content_response['response']['pages']\n",
    "    list_of_results_informations = []\n",
    "    for p in tqdm(range(1, nb_pages+1)):\n",
    "        response = theguardian_content.Content(api=API_KEY, url=tag_apiUrl,\n",
    "                                               page=p).get_content_response()\n",
    "        for res in response['response']['results']:\n",
    "            list_of_results_informations.append({\n",
    "                \"id\": res[\"id\"].replace('/', '_'),\n",
    "                \"type\": res['type'],\n",
    "                'sectionId': res['sectionId'],\n",
    "                'webPublicationDate': res['webPublicationDate'],\n",
    "                'webTitle': res['webTitle'],\n",
    "                'webUrl': res['webUrl'],\n",
    "                'apiUrl': res['apiUrl']\n",
    "            })\n",
    "        sleep(0.1) # I am only allowed 12 request a second \n",
    "    results_informations_df = pd.DataFrame(list_of_results_informations)\n",
    "    return results_informations_df"
   ]
  },
  {
   "cell_type": "code",
   "execution_count": 118,
   "id": "3519dec1",
   "metadata": {},
   "outputs": [
    {
     "data": {
      "application/vnd.jupyter.widget-view+json": {
       "model_id": "70b7b3ac0d0c493e96fdc6d1d00f15b3",
       "version_major": 2,
       "version_minor": 0
      },
      "text/plain": [
       "  0%|          | 0/41 [00:00<?, ?it/s]"
      ]
     },
     "metadata": {},
     "output_type": "display_data"
    }
   ],
   "source": [
    "results = get_query_results(\"tesla\", 'technology')\n",
    "tesla_theguardian_df = get_list_of_article_url(results[0][\"apiUrl\"])"
   ]
  },
  {
   "cell_type": "code",
   "execution_count": 119,
   "id": "bdcdf3d1",
   "metadata": {},
   "outputs": [
    {
     "data": {
      "text/html": [
       "<div>\n",
       "<style scoped>\n",
       "    .dataframe tbody tr th:only-of-type {\n",
       "        vertical-align: middle;\n",
       "    }\n",
       "\n",
       "    .dataframe tbody tr th {\n",
       "        vertical-align: top;\n",
       "    }\n",
       "\n",
       "    .dataframe thead th {\n",
       "        text-align: right;\n",
       "    }\n",
       "</style>\n",
       "<table border=\"1\" class=\"dataframe\">\n",
       "  <thead>\n",
       "    <tr style=\"text-align: right;\">\n",
       "      <th></th>\n",
       "      <th>id</th>\n",
       "      <th>type</th>\n",
       "      <th>sectionId</th>\n",
       "      <th>webPublicationDate</th>\n",
       "      <th>webTitle</th>\n",
       "      <th>webUrl</th>\n",
       "      <th>apiUrl</th>\n",
       "    </tr>\n",
       "  </thead>\n",
       "  <tbody>\n",
       "    <tr>\n",
       "      <th>0</th>\n",
       "      <td>business_2021_may_13_fund-management-irretriev...</td>\n",
       "      <td>article</td>\n",
       "      <td>business</td>\n",
       "      <td>2021-05-13T16:27:08Z</td>\n",
       "      <td>Fund management ‘irretrievably broken’, says s...</td>\n",
       "      <td>https://www.theguardian.com/business/2021/may/...</td>\n",
       "      <td>https://content.guardianapis.com/business/2021...</td>\n",
       "    </tr>\n",
       "    <tr>\n",
       "      <th>1</th>\n",
       "      <td>business_2021_may_05_uk-car-sales-rebound-afte...</td>\n",
       "      <td>article</td>\n",
       "      <td>business</td>\n",
       "      <td>2021-05-05T09:21:07Z</td>\n",
       "      <td>UK car sales rebound after ‘one of darkest yea...</td>\n",
       "      <td>https://www.theguardian.com/business/2021/may/...</td>\n",
       "      <td>https://content.guardianapis.com/business/2021...</td>\n",
       "    </tr>\n",
       "    <tr>\n",
       "      <th>2</th>\n",
       "      <td>business_2021_apr_28_us-automakers-rules-auto-...</td>\n",
       "      <td>article</td>\n",
       "      <td>technology</td>\n",
       "      <td>2021-04-28T16:49:27Z</td>\n",
       "      <td>US automakers outline rules for auto-driving c...</td>\n",
       "      <td>https://www.theguardian.com/business/2021/apr/...</td>\n",
       "      <td>https://content.guardianapis.com/business/2021...</td>\n",
       "    </tr>\n",
       "    <tr>\n",
       "      <th>3</th>\n",
       "      <td>technology_2021_apr_26_tesla-record-quarterly-...</td>\n",
       "      <td>article</td>\n",
       "      <td>technology</td>\n",
       "      <td>2021-04-26T21:47:50Z</td>\n",
       "      <td>Tesla reports record quarterly profit as elect...</td>\n",
       "      <td>https://www.theguardian.com/technology/2021/ap...</td>\n",
       "      <td>https://content.guardianapis.com/technology/20...</td>\n",
       "    </tr>\n",
       "    <tr>\n",
       "      <th>4</th>\n",
       "      <td>commentisfree_2021_apr_25_elon-musk-jeff-bezos...</td>\n",
       "      <td>article</td>\n",
       "      <td>commentisfree</td>\n",
       "      <td>2021-04-25T05:00:07Z</td>\n",
       "      <td>In space, no one will hear Bezos and Musk’s wo...</td>\n",
       "      <td>https://www.theguardian.com/commentisfree/2021...</td>\n",
       "      <td>https://content.guardianapis.com/commentisfree...</td>\n",
       "    </tr>\n",
       "    <tr>\n",
       "      <th>...</th>\n",
       "      <td>...</td>\n",
       "      <td>...</td>\n",
       "      <td>...</td>\n",
       "      <td>...</td>\n",
       "      <td>...</td>\n",
       "      <td>...</td>\n",
       "      <td>...</td>\n",
       "    </tr>\n",
       "    <tr>\n",
       "      <th>399</th>\n",
       "      <td>media_2008_dec_24_jeremy-clarkson-top-gear-tes...</td>\n",
       "      <td>article</td>\n",
       "      <td>tv-and-radio</td>\n",
       "      <td>2008-12-24T07:11:09Z</td>\n",
       "      <td>Top Gear's Jeremy Clarkson under fire over Tes...</td>\n",
       "      <td>https://www.theguardian.com/media/2008/dec/24/...</td>\n",
       "      <td>https://content.guardianapis.com/media/2008/de...</td>\n",
       "    </tr>\n",
       "    <tr>\n",
       "      <th>400</th>\n",
       "      <td>technology_blog_2008_dec_01_engineering-automo...</td>\n",
       "      <td>article</td>\n",
       "      <td>technology</td>\n",
       "      <td>2008-12-01T22:42:56Z</td>\n",
       "      <td>Why Obama should treat the car industry like t...</td>\n",
       "      <td>https://www.theguardian.com/technology/blog/20...</td>\n",
       "      <td>https://content.guardianapis.com/technology/bl...</td>\n",
       "    </tr>\n",
       "    <tr>\n",
       "      <th>401</th>\n",
       "      <td>environment_2008_oct_16_alternativeenergy-usa</td>\n",
       "      <td>article</td>\n",
       "      <td>environment</td>\n",
       "      <td>2008-10-16T08:20:53Z</td>\n",
       "      <td>Electric car manufacturer hit by financial crisis</td>\n",
       "      <td>https://www.theguardian.com/environment/2008/o...</td>\n",
       "      <td>https://content.guardianapis.com/environment/2...</td>\n",
       "    </tr>\n",
       "    <tr>\n",
       "      <th>402</th>\n",
       "      <td>business_2008_jul_01_automotive.greenbusiness</td>\n",
       "      <td>article</td>\n",
       "      <td>business</td>\n",
       "      <td>2008-07-01T16:06:40Z</td>\n",
       "      <td>California beats New Mexico in race to build z...</td>\n",
       "      <td>https://www.theguardian.com/business/2008/jul/...</td>\n",
       "      <td>https://content.guardianapis.com/business/2008...</td>\n",
       "    </tr>\n",
       "    <tr>\n",
       "      <th>403</th>\n",
       "      <td>environment_2006_aug_22_motoring.lifeandhealth</td>\n",
       "      <td>article</td>\n",
       "      <td>environment</td>\n",
       "      <td>2006-08-22T11:58:51Z</td>\n",
       "      <td>An exclusive preview of the world's most excit...</td>\n",
       "      <td>https://www.theguardian.com/environment/2006/a...</td>\n",
       "      <td>https://content.guardianapis.com/environment/2...</td>\n",
       "    </tr>\n",
       "  </tbody>\n",
       "</table>\n",
       "<p>404 rows × 7 columns</p>\n",
       "</div>"
      ],
      "text/plain": [
       "                                                    id     type  \\\n",
       "0    business_2021_may_13_fund-management-irretriev...  article   \n",
       "1    business_2021_may_05_uk-car-sales-rebound-afte...  article   \n",
       "2    business_2021_apr_28_us-automakers-rules-auto-...  article   \n",
       "3    technology_2021_apr_26_tesla-record-quarterly-...  article   \n",
       "4    commentisfree_2021_apr_25_elon-musk-jeff-bezos...  article   \n",
       "..                                                 ...      ...   \n",
       "399  media_2008_dec_24_jeremy-clarkson-top-gear-tes...  article   \n",
       "400  technology_blog_2008_dec_01_engineering-automo...  article   \n",
       "401      environment_2008_oct_16_alternativeenergy-usa  article   \n",
       "402      business_2008_jul_01_automotive.greenbusiness  article   \n",
       "403     environment_2006_aug_22_motoring.lifeandhealth  article   \n",
       "\n",
       "         sectionId    webPublicationDate  \\\n",
       "0         business  2021-05-13T16:27:08Z   \n",
       "1         business  2021-05-05T09:21:07Z   \n",
       "2       technology  2021-04-28T16:49:27Z   \n",
       "3       technology  2021-04-26T21:47:50Z   \n",
       "4    commentisfree  2021-04-25T05:00:07Z   \n",
       "..             ...                   ...   \n",
       "399   tv-and-radio  2008-12-24T07:11:09Z   \n",
       "400     technology  2008-12-01T22:42:56Z   \n",
       "401    environment  2008-10-16T08:20:53Z   \n",
       "402       business  2008-07-01T16:06:40Z   \n",
       "403    environment  2006-08-22T11:58:51Z   \n",
       "\n",
       "                                              webTitle  \\\n",
       "0    Fund management ‘irretrievably broken’, says s...   \n",
       "1    UK car sales rebound after ‘one of darkest yea...   \n",
       "2    US automakers outline rules for auto-driving c...   \n",
       "3    Tesla reports record quarterly profit as elect...   \n",
       "4    In space, no one will hear Bezos and Musk’s wo...   \n",
       "..                                                 ...   \n",
       "399  Top Gear's Jeremy Clarkson under fire over Tes...   \n",
       "400  Why Obama should treat the car industry like t...   \n",
       "401  Electric car manufacturer hit by financial crisis   \n",
       "402  California beats New Mexico in race to build z...   \n",
       "403  An exclusive preview of the world's most excit...   \n",
       "\n",
       "                                                webUrl  \\\n",
       "0    https://www.theguardian.com/business/2021/may/...   \n",
       "1    https://www.theguardian.com/business/2021/may/...   \n",
       "2    https://www.theguardian.com/business/2021/apr/...   \n",
       "3    https://www.theguardian.com/technology/2021/ap...   \n",
       "4    https://www.theguardian.com/commentisfree/2021...   \n",
       "..                                                 ...   \n",
       "399  https://www.theguardian.com/media/2008/dec/24/...   \n",
       "400  https://www.theguardian.com/technology/blog/20...   \n",
       "401  https://www.theguardian.com/environment/2008/o...   \n",
       "402  https://www.theguardian.com/business/2008/jul/...   \n",
       "403  https://www.theguardian.com/environment/2006/a...   \n",
       "\n",
       "                                                apiUrl  \n",
       "0    https://content.guardianapis.com/business/2021...  \n",
       "1    https://content.guardianapis.com/business/2021...  \n",
       "2    https://content.guardianapis.com/business/2021...  \n",
       "3    https://content.guardianapis.com/technology/20...  \n",
       "4    https://content.guardianapis.com/commentisfree...  \n",
       "..                                                 ...  \n",
       "399  https://content.guardianapis.com/media/2008/de...  \n",
       "400  https://content.guardianapis.com/technology/bl...  \n",
       "401  https://content.guardianapis.com/environment/2...  \n",
       "402  https://content.guardianapis.com/business/2008...  \n",
       "403  https://content.guardianapis.com/environment/2...  \n",
       "\n",
       "[404 rows x 7 columns]"
      ]
     },
     "execution_count": 119,
     "metadata": {},
     "output_type": "execute_result"
    }
   ],
   "source": [
    "tesla_theguardian_df"
   ]
  },
  {
   "cell_type": "code",
   "execution_count": 112,
   "id": "0e0411aa",
   "metadata": {},
   "outputs": [],
   "source": [
    "tesla_theguardian_df.loc[:, \"webPublicationDate\"] = tesla_theguardian_df[\"webPublicationDate\"].apply(lambda dt: datetime.strptime(dt, \"%Y-%m-%dT%H:%M:%SZ\"))"
   ]
  },
  {
   "cell_type": "code",
   "execution_count": 113,
   "id": "c286a5b1",
   "metadata": {},
   "outputs": [
    {
     "data": {
      "text/plain": [
       "<AxesSubplot:>"
      ]
     },
     "execution_count": 113,
     "metadata": {},
     "output_type": "execute_result"
    },
    {
     "data": {
      "image/png": "[encoded data removed]",
      "text/plain": [
       "<Figure size 432x288 with 1 Axes>"
      ]
     },
     "metadata": {
      "needs_background": "light"
     },
     "output_type": "display_data"
    }
   ],
   "source": [
    "tesla_theguardian_df.webPublicationDate.hist()"
   ]
  },
  {
   "cell_type": "code",
   "execution_count": 120,
   "id": "5aa46796",
   "metadata": {},
   "outputs": [],
   "source": [
    "tesla_theguardian_df.to_csv('/home/jupyter/data/ner/theguardian/tesla_theguardian_df.csv')"
   ]
  },
  {
   "cell_type": "code",
   "execution_count": null,
   "id": "2760e323",
   "metadata": {},
   "outputs": [],
   "source": []
  },
  {
   "cell_type": "code",
   "execution_count": 77,
   "id": "e4f7dcc3",
   "metadata": {},
   "outputs": [],
   "source": [
    "# def preprocess_html_txt(txt):\n",
    "# #     return txt\n",
    "#     txt_ = copy.deepcopy(txt)\n",
    "#     txt_ = re.sub(\"<a href[^>]+>\", \"\", txt_)\n",
    "#     txt_ = re.sub(\"</a>\", \"\", txt_)\n",
    "#     txt_ = re.sub(\"<h\\d>\", \"\", txt_)\n",
    "#     txt_ = re.sub(\"</h\\d>\", \"\", txt_)\n",
    "#     txt_ = re.sub(\"<figcaption([^<]|\\s)*</figcaption>\", \"\", txt_)\n",
    "#     txt_ = re.sub(\"<iframe([^<]|\\s)*</iframe>\", \"\", txt_)\n",
    "#     txt_ = re.sub(\"<figure([^<]|\\s)*</figure>\", \"\", txt_)\n",
    "#     txt_ = re.sub(\"<img[^>]+/>\", \"\", txt_)\n",
    "#     txt_ = re.sub(\"<span[^>]*>\", \"\", txt_)\n",
    "#     txt_ = re.sub(\"</span>\", \"\", txt_)\n",
    "#     txt_ = re.sub(\"<aside([^<]|\\s)*</aside>\", \"\", txt_)\n",
    "#     txt_ = re.sub(\"</p>\\s*<p>\", \"\\n\\n\", txt_)\n",
    "#     txt_ = re.sub(\"</p>\", \"\", txt_)\n",
    "#     txt_ = re.sub(\"<p>\", \"\", txt_)\n",
    "#     txt_ = re.sub(\"<li>\", \"\", txt_)\n",
    "#     txt_ = re.sub(\"</li>\", \"\", txt_)\n",
    "#     txt_ = re.sub(\"<ul>\", \"\", txt_)\n",
    "#     txt_ = re.sub(\"</ul>\", \"\", txt_)\n",
    "#     txt_ = re.sub(\"</ul>\", \"\", txt_)\n",
    "#     txt_ = re.sub(\"<aside([^<]|\\s)*</aside>\", \"\", txt_)\n",
    "#     html_elems = set([x for x in re.findall(\"<[^>]+>\", txt_)])\n",
    "#     if len(html_elems) > 0:\n",
    "#         for html in html_elems:\n",
    "#             print(html)\n",
    "# #         assert 1==0\n",
    "#     return txt_"
   ]
  },
  {
   "cell_type": "code",
   "execution_count": 92,
   "id": "e6bef09b",
   "metadata": {},
   "outputs": [],
   "source": [
    "def dowload_articles_content(theguardian_df):\n",
    "    \n",
    "    header = {\n",
    "        \"show-fields\": [\"body\"]\n",
    "    }\n",
    "    \n",
    "    for article_key, article_api_uri in tqdm(theguardian_df[[\"id\", \"apiUrl\"]].values):\n",
    "        content = theguardian_content.Content(api=API_KEY, url=article_api_uri,\n",
    "                                              **header).get_content_response()\n",
    "        txt = content['response']['content']['fields']['body']\n",
    "        preprocess_txt = BeautifulSoup(txt, 'html.parser').get_text()\n",
    "        with open(\"/home/jupyter/data/ner/theguardian/articles/\" + article_key + \".txt\", \"w\") as f:\n",
    "            f.write(preprocess_txt)\n",
    "        sleep(0.1)\n"
   ]
  },
  {
   "cell_type": "code",
   "execution_count": 93,
   "id": "214f0235",
   "metadata": {},
   "outputs": [
    {
     "data": {
      "application/vnd.jupyter.widget-view+json": {
       "model_id": "1e502e026e4c416f907ae869105a92d5",
       "version_major": 2,
       "version_minor": 0
      },
      "text/plain": [
       "  0%|          | 0/404 [00:00<?, ?it/s]"
      ]
     },
     "metadata": {},
     "output_type": "display_data"
    }
   ],
   "source": [
    "dowload_articles_content(tesla_theguardian_df)"
   ]
  },
  {
   "cell_type": "code",
   "execution_count": 122,
   "id": "6022d700",
   "metadata": {},
   "outputs": [],
   "source": [
    "\n",
    "\n",
    "\n",
    "# get content response\n",
    "content_response = content.get_content_response()"
   ]
  },
  {
   "cell_type": "code",
   "execution_count": 123,
   "id": "0c96e2a3",
   "metadata": {},
   "outputs": [
    {
     "data": {
      "text/plain": [
       "{'response': {'status': 'ok',\n",
       "  'userTier': 'developer',\n",
       "  'total': 1,\n",
       "  'content': {'id': 'technology/2020/nov/06/tesla-investor-defends-electric-carmakers-soaring-share-price',\n",
       "   'type': 'article',\n",
       "   'sectionId': 'technology',\n",
       "   'sectionName': 'Technology',\n",
       "   'webPublicationDate': '2020-11-06T12:24:55Z',\n",
       "   'webTitle': \"Tesla investor defends electric carmaker's soaring share price\",\n",
       "   'webUrl': 'https://www.theguardian.com/technology/2020/nov/06/tesla-investor-defends-electric-carmakers-soaring-share-price',\n",
       "   'apiUrl': 'https://content.guardianapis.com/technology/2020/nov/06/tesla-investor-defends-electric-carmakers-soaring-share-price',\n",
       "   'fields': {'body': '<p>One of the biggest investors in Tesla has defended the explosive growth in the US electric carmaker’s share price, arguing that it is “far from an aberration”.</p> <p><a href=\"https://www.theguardian.com/money/2020/sep/11/scottish-firm-investing-in-tesla-baillie-gifford\">Baillie Gifford</a>, the Edinburgh-based investment manager that runs the Scottish Mortgage Investment Trust (SMIT), has been the second-biggest winner from Tesla’s rocketing share price, beaten only by Tesla’s outspoken chief executive, <a href=\"https://www.theguardian.com/business/2020/aug/19/elon-musk-becomes-worlds-fourth-richest-man-on-tesla-boom\">Elon Musk</a>.</p> <p>Tesla has rapidly risen to become the world’s most valuable carmaker, outstripping the likes of Volkswagen and Toyota despite producing only a fraction of the cars. Its shares have risen from the equivalent of about $7 in 2013, when Baillie Gifford first invested, to more than $438 after trading closed on Thursday. Its market value has quintupled during 2020 to $415bn.</p> <p>The rise has astonished many of Tesla’s army of admirers, as well as critics who argue it is a <a href=\"https://www.theguardian.com/technology/2020/jul/18/tesla-valuation-elon-musk-profit\">massive investment bubble</a>. However, SMIT, an investment fund listed on the FTSE 100, argued that Tesla, which has been profitable for five consecutive quarters, could be one of the firms that most benefits from the transition away from fossil fuels.</p> <p>In its half-year report, published on Friday, its managers said: “Whilst the company and its colourful founder attract an unusually high degree of attention, emotion and noise, the underlying return picture is far from an aberration. Returns are concentrated in a handful of big winners.</p> <p>“Tesla has made significant operational progress. It has successfully added capacity and the production ramp of its latest model has progressed far more smoothly than for any of its previous vehicles. Demand for its products is strong and the response from its traditional competitors remains muted.”</p> <p>Tesla shares accounted for 12% of the value of SMIT’s investment portfolio. The carmaker was responsible for a quarter of SMIT’s entire performance during the six months to the end of September.</p>  <figure class=\"element element-embed\" data-alt=\"Sign up\">  <iframe src=\"https://www.theguardian.com/email/form/plaintone/3887\" height=\"52px\" data-form-title=\"Sign up for\\xa0Business\\xa0Today\" data-form-description=\"Get the headlines and editors\\' picks every weekday morning.\" scrolling=\"no\" seamless frameborder=\"0\" class=\"iframed--overflow-hidden\\xa0email-sub__iframe ja-email-sub__iframe js-email-sub__iframe--article\" data-form-success-desc=\"Thanks for signing up\"></iframe> <figcaption>Sign up to the daily Business Today email or follow Guardian Business on Twitter at @BusinessDesk </figcaption> </figure>  <p>Baillie Gifford manages assets worth £296bn. All of the Tesla shares controlled by Baillie Gifford, including in SMIT, are worth about £16.7bn. The fund has made repeated large bets on fast-growing tech companies including Amazon and the Chinese tech duo Tencent and Alibaba.</p> <p>SMIT was forced to sell some of its shares in Tesla during the six months to September because its size was pushing against self-imposed limits on the concentration of its portfolio.</p> <p>However, the trust also has other big bets on companies that hope to take a central place in the electric car revolution, <a href=\"https://www.theguardian.com/business/2020/nov/03/new-lockdown-same-economic-victims-young-low-paid-workers\">including Nio, a Chinese electric carmaker </a>hoping to rival Tesla despite struggling in the last year, and Northvolt, a European battery manufacturer that has received heavy financial backing from the EU.</p>'},\n",
       "   'isHosted': False,\n",
       "   'pillarId': 'pillar/news',\n",
       "   'pillarName': 'News'}}}"
      ]
     },
     "execution_count": 123,
     "metadata": {},
     "output_type": "execute_result"
    }
   ],
   "source": [
    "content_response"
   ]
  },
  {
   "cell_type": "code",
   "execution_count": 126,
   "id": "79f5aff0",
   "metadata": {},
   "outputs": [],
   "source": [
    "import re"
   ]
  },
  {
   "cell_type": "code",
   "execution_count": 129,
   "id": "5e4b74fc",
   "metadata": {},
   "outputs": [
    {
     "data": {
      "text/plain": [
       "'<p>One of the biggest investors in Tesla has defended the explosive growth in the US electric carmaker’s share price, arguing that it is “far from an aberration”.</p> <p><a href=\"https://www.theguardian.com/money/2020/sep/11/scottish-firm-investing-in-tesla-baillie-gifford\">Baillie Gifford</a>, the Edinburgh-based investment manager that runs the Scottish Mortgage Investment Trust (SMIT), has been the second-biggest winner from Tesla’s rocketing share price, beaten only by Tesla’s outspoken chief executive, <a href=\"https://www.theguardian.com/business/2020/aug/19/elon-musk-becomes-worlds-fourth-richest-man-on-tesla-boom\">Elon Musk</a>.</p> <p>Tesla has rapidly risen to become the world’s most valuable carmaker, outstripping the likes of Volkswagen and Toyota despite producing only a fraction of the cars. Its shares have risen from the equivalent of about $7 in 2013, when Baillie Gifford first invested, to more than $438 after trading closed on Thursday. Its market value has quintupled during 2020 to $415bn.</p> <p>The rise has astonished many of Tesla’s army of admirers, as well as critics who argue it is a <a href=\"https://www.theguardian.com/technology/2020/jul/18/tesla-valuation-elon-musk-profit\">massive investment bubble</a>. However, SMIT, an investment fund listed on the FTSE 100, argued that Tesla, which has been profitable for five consecutive quarters, could be one of the firms that most benefits from the transition away from fossil fuels.</p> <p>In its half-year report, published on Friday, its managers said: “Whilst the company and its colourful founder attract an unusually high degree of attention, emotion and noise, the underlying return picture is far from an aberration. Returns are concentrated in a handful of big winners.</p> <p>“Tesla has made significant operational progress. It has successfully added capacity and the production ramp of its latest model has progressed far more smoothly than for any of its previous vehicles. Demand for its products is strong and the response from its traditional competitors remains muted.”</p> <p>Tesla shares accounted for 12% of the value of SMIT’s investment portfolio. The carmaker was responsible for a quarter of SMIT’s entire performance during the six months to the end of September.</p>  <figure class=\"element element-embed\" data-alt=\"Sign up\">  <iframe src=\"https://www.theguardian.com/email/form/plaintone/3887\" height=\"52px\" data-form-title=\"Sign up for\\xa0Business\\xa0Today\" data-form-description=\"Get the headlines and editors\\' picks every weekday morning.\" scrolling=\"no\" seamless frameborder=\"0\" class=\"iframed--overflow-hidden\\xa0email-sub__iframe ja-email-sub__iframe js-email-sub__iframe--article\" data-form-success-desc=\"Thanks for signing up\"></iframe> <figcaption>Sign up to the daily Business Today email or follow Guardian Business on Twitter at @BusinessDesk </figcaption> </figure>  <p>Baillie Gifford manages assets worth £296bn. All of the Tesla shares controlled by Baillie Gifford, including in SMIT, are worth about £16.7bn. The fund has made repeated large bets on fast-growing tech companies including Amazon and the Chinese tech duo Tencent and Alibaba.</p> <p>SMIT was forced to sell some of its shares in Tesla during the six months to September because its size was pushing against self-imposed limits on the concentration of its portfolio.</p> <p>However, the trust also has other big bets on companies that hope to take a central place in the electric car revolution, <a href=\"https://www.theguardian.com/business/2020/nov/03/new-lockdown-same-economic-victims-young-low-paid-workers\">including Nio, a Chinese electric carmaker </a>hoping to rival Tesla despite struggling in the last year, and Northvolt, a European battery manufacturer that has received heavy financial backing from the EU.</p>'"
      ]
     },
     "execution_count": 129,
     "metadata": {},
     "output_type": "execute_result"
    }
   ],
   "source": [
    "txt = content_response['response']['content']['fields']['body']\n",
    "txt"
   ]
  },
  {
   "cell_type": "code",
   "execution_count": 136,
   "id": "362e8dab",
   "metadata": {},
   "outputs": [
    {
     "name": "stdout",
     "output_type": "stream",
     "text": [
      "</p>\n",
      "<a href=\"https://www.theguardian.com/business/2020/nov/03/new-lockdown-same-economic-victims-young-low-paid-workers\">\n",
      "<figcaption>\n",
      "<iframe src=\"https://www.theguardian.com/email/form/plaintone/3887\" height=\"52px\" data-form-title=\"Sign up for Business Today\" data-form-description=\"Get the headlines and editors' picks every weekday morning.\" scrolling=\"no\" seamless frameborder=\"0\" class=\"iframed--overflow-hidden email-sub__iframe ja-email-sub__iframe js-email-sub__iframe--article\" data-form-success-desc=\"Thanks for signing up\">\n",
      "</iframe>\n",
      "<figure class=\"element element-embed\" data-alt=\"Sign up\">\n",
      "<a href=\"https://www.theguardian.com/technology/2020/jul/18/tesla-valuation-elon-musk-profit\">\n",
      "</figure>\n",
      "<a href=\"https://www.theguardian.com/money/2020/sep/11/scottish-firm-investing-in-tesla-baillie-gifford\">\n",
      "<a href=\"https://www.theguardian.com/business/2020/aug/19/elon-musk-becomes-worlds-fourth-richest-man-on-tesla-boom\">\n",
      "</figcaption>\n",
      "</a>\n",
      "<p>\n"
     ]
    }
   ],
   "source": [
    "for b in :\n",
    "    print(b)"
   ]
  },
  {
   "cell_type": "code",
   "execution_count": 140,
   "id": "d55a065d",
   "metadata": {},
   "outputs": [],
   "source": [
    "import copy"
   ]
  },
  {
   "cell_type": "code",
   "execution_count": 160,
   "id": "0f7ceb20",
   "metadata": {},
   "outputs": [
    {
     "name": "stdout",
     "output_type": "stream",
     "text": [
      "One of the biggest investors in Tesla has defended the explosive growth in the US electric carmaker’s share price, arguing that it is “far from an aberration”.\n",
      "\n",
      "Baillie Gifford, the Edinburgh-based investment manager that runs the Scottish Mortgage Investment Trust (SMIT), has been the second-biggest winner from Tesla’s rocketing share price, beaten only by Tesla’s outspoken chief executive, Elon Musk.\n",
      "\n",
      "Tesla has rapidly risen to become the world’s most valuable carmaker, outstripping the likes of Volkswagen and Toyota despite producing only a fraction of the cars. Its shares have risen from the equivalent of about $7 in 2013, when Baillie Gifford first invested, to more than $438 after trading closed on Thursday. Its market value has quintupled during 2020 to $415bn.\n",
      "\n",
      "The rise has astonished many of Tesla’s army of admirers, as well as critics who argue it is a massive investment bubble. However, SMIT, an investment fund listed on the FTSE 100, argued that Tesla, which has been profitable for five consecutive quarters, could be one of the firms that most benefits from the transition away from fossil fuels.\n",
      "\n",
      "In its half-year report, published on Friday, its managers said: “Whilst the company and its colourful founder attract an unusually high degree of attention, emotion and noise, the underlying return picture is far from an aberration. Returns are concentrated in a handful of big winners.\n",
      "\n",
      "“Tesla has made significant operational progress. It has successfully added capacity and the production ramp of its latest model has progressed far more smoothly than for any of its previous vehicles. Demand for its products is strong and the response from its traditional competitors remains muted.”\n",
      "\n",
      "Tesla shares accounted for 12% of the value of SMIT’s investment portfolio. The carmaker was responsible for a quarter of SMIT’s entire performance during the six months to the end of September.\n",
      "\n",
      "Baillie Gifford manages assets worth £296bn. All of the Tesla shares controlled by Baillie Gifford, including in SMIT, are worth about £16.7bn. The fund has made repeated large bets on fast-growing tech companies including Amazon and the Chinese tech duo Tencent and Alibaba.\n",
      "\n",
      "SMIT was forced to sell some of its shares in Tesla during the six months to September because its size was pushing against self-imposed limits on the concentration of its portfolio.\n",
      "\n",
      "However, the trust also has other big bets on companies that hope to take a central place in the electric car revolution, including Nio, a Chinese electric carmaker hoping to rival Tesla despite struggling in the last year, and Northvolt, a European battery manufacturer that has received heavy financial backing from the EU.\n"
     ]
    }
   ],
   "source": [
    "def preprocess_html_txt(txt):\n",
    "    txt_ = copy.deepcopy(txt)\n",
    "    txt_ = re.sub(\"<a href[^>]+>\", \"\", txt_)\n",
    "    txt_ = re.sub(\"</a>\", \"\", txt_)\n",
    "    txt_ = re.sub(\"<figcaption>[^<]+</figcaption>\", \"\", txt_)\n",
    "    txt_ = re.sub(\"<iframe[^>]+></iframe>\", \"\", txt_)\n",
    "    txt_ = re.sub(\"<figure[^>]+>\\s*</figure>\", \"\", txt_)\n",
    "    txt_ = re.sub(\"</p>\\s*<p>\", \"\\n\\n\", txt_)\n",
    "    txt_ = re.sub(\"</p>\", \"\", txt_)\n",
    "    txt_ = re.sub(\"<p>\", \"\", txt_)\n",
    "    html_elems = set([x for x in re.findall(\"<[^>]+>\", txt_)])\n",
    "    if len(html_elems) > 0:\n",
    "        for html in html_elems:\n",
    "            print(html)\n",
    "    return txt_\n",
    "\n",
    "\n",
    "print(preprocess_html_txt(txt))"
   ]
  },
  {
   "cell_type": "code",
   "execution_count": 154,
   "id": "d9b3a880",
   "metadata": {},
   "outputs": [
    {
     "name": "stdout",
     "output_type": "stream",
     "text": [
      "</p>\n",
      "<p>\n"
     ]
    }
   ],
   "source": [
    "for b in set([x for x in re.findall(\"<[^>]+>\", txt_)]):\n",
    "    print(b)"
   ]
  },
  {
   "cell_type": "code",
   "execution_count": null,
   "id": "1b54532a",
   "metadata": {},
   "outputs": [],
   "source": []
  }
 ],
 "metadata": {
  "environment": {
   "name": "common-cpu.m65",
   "type": "gcloud",
   "uri": "gcr.io/deeplearning-platform-release/base-cpu:m65"
  },
  "kernelspec": {
   "display_name": "Python 3",
   "language": "python",
   "name": "python3"
  },
  "language_info": {
   "codemirror_mode": {
    "name": "ipython",
    "version": 3
   },
   "file_extension": ".py",
   "mimetype": "text/x-python",
   "name": "python",
   "nbconvert_exporter": "python",
   "pygments_lexer": "ipython3",
   "version": "3.7.10"
  }
 },
 "nbformat": 4,
 "nbformat_minor": 5
}
