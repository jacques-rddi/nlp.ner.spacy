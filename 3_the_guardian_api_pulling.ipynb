{
 "cells": [
  {
   "cell_type": "markdown",
   "id": "79377814",
   "metadata": {},
   "source": [
    "# Pull all Tesla articles from The Guardian API\n",
    "\n",
    "In this notebook we will use the guardian API in order to obtain a collection of document talking about the car manufacturer Tesla. This will be our dataset to extract information from it concerning the company and test the possibilities using spaCy NER model.\n",
    "\n",
    "## Imports"
   ]
  },
  {
   "cell_type": "code",
   "execution_count": 1,
   "id": "d6d01243",
   "metadata": {},
   "outputs": [],
   "source": [
    "import re\n",
    "import copy\n",
    "\n",
    "import pandas as pd\n",
    "import matplotlib.pyplot as plt\n",
    "\n",
    "from time import sleep\n",
    "from datetime import datetime\n",
    "from tqdm.notebook import tqdm\n",
    "\n",
    "from bs4 import BeautifulSoup\n",
    "\n",
    "from theguardian import theguardian_tag\n",
    "from theguardian import theguardian_content\n",
    "\n",
    "from config import API_KEY"
   ]
  },
  {
   "cell_type": "markdown",
   "id": "8f5ae292",
   "metadata": {},
   "source": [
    "## Query one topic\n",
    "\n",
    "In our case we will chose the car manuacturer Tesla."
   ]
  },
  {
   "cell_type": "code",
   "execution_count": 2,
   "id": "f718ede5",
   "metadata": {},
   "outputs": [],
   "source": [
    "def get_query_results(q, section):\n",
    "    # get the apple tags\n",
    "    headers = {\n",
    "        \"q\": q,\n",
    "        \"section\": section,\n",
    "    }\n",
    "    tag = theguardian_tag.Tag(api=API_KEY, **headers)\n",
    "\n",
    "    # get the results\n",
    "    tag_content = tag.get_content_response()\n",
    "    results = tag.get_results(tag_content)\n",
    "    return results"
   ]
  },
  {
   "cell_type": "markdown",
   "id": "06eaabed",
   "metadata": {},
   "source": [
    "### The query results below give us access to a API URL to pull all the articles from this topic"
   ]
  },
  {
   "cell_type": "code",
   "execution_count": 3,
   "id": "794df57e",
   "metadata": {},
   "outputs": [
    {
     "data": {
      "text/plain": [
       "[{'id': 'technology/tesla',\n",
       "  'type': 'keyword',\n",
       "  'sectionId': 'technology',\n",
       "  'sectionName': 'Technology',\n",
       "  'webTitle': 'Tesla',\n",
       "  'webUrl': 'https://www.theguardian.com/technology/tesla',\n",
       "  'apiUrl': 'https://content.guardianapis.com/technology/tesla',\n",
       "  'description': 'Tesla is an automotive and energy storage company that designs, manufactures, and sells electric cars, electric vehicle powertrain components, and battery products.'}]"
      ]
     },
     "execution_count": 3,
     "metadata": {},
     "output_type": "execute_result"
    }
   ],
   "source": [
    "results = get_query_results(\"tesla\", 'technology')\n",
    "results"
   ]
  },
  {
   "cell_type": "markdown",
   "id": "458f026b",
   "metadata": {},
   "source": [
    "## Pull all the articles reference coresponding to the Tesla topic\n",
    "To do so we use the URL from the previous cells."
   ]
  },
  {
   "cell_type": "code",
   "execution_count": 4,
   "id": "7a13fe8a",
   "metadata": {},
   "outputs": [],
   "source": [
    "def get_list_of_article_url(tag_apiUrl):\n",
    "    content = theguardian_content.Content(api=API_KEY, url=tag_apiUrl)#,  page=41)\n",
    "    content_response = content.get_content_response()\n",
    "    nb_pages = content_response['response']['pages']\n",
    "    list_of_results_informations = []\n",
    "    for p in tqdm(range(1, nb_pages+1)):\n",
    "        response = theguardian_content.Content(api=API_KEY, url=tag_apiUrl,\n",
    "                                               page=p).get_content_response()\n",
    "        for res in response['response']['results']:\n",
    "            list_of_results_informations.append({\n",
    "                \"id\": res[\"id\"].replace('/', '_'),\n",
    "                \"type\": res['type'],\n",
    "                'sectionId': res['sectionId'],\n",
    "                'webPublicationDate': res['webPublicationDate'],\n",
    "                'webTitle': res['webTitle'],\n",
    "                'webUrl': res['webUrl'],\n",
    "                'apiUrl': res['apiUrl']\n",
    "            })\n",
    "        sleep(0.1) # I am only allowed 12 request a second \n",
    "    results_informations_df = pd.DataFrame(list_of_results_informations)\n",
    "    return results_informations_df"
   ]
  },
  {
   "cell_type": "code",
   "execution_count": 5,
   "id": "df893ae6",
   "metadata": {},
   "outputs": [
    {
     "data": {
      "application/vnd.jupyter.widget-view+json": {
       "model_id": "75279f68c00a49f08d154bf8e496cf17",
       "version_major": 2,
       "version_minor": 0
      },
      "text/plain": [
       "  0%|          | 0/41 [00:00<?, ?it/s]"
      ]
     },
     "metadata": {},
     "output_type": "display_data"
    }
   ],
   "source": [
    "results = get_query_results(\"tesla\", 'technology')\n",
    "tesla_theguardian_df = get_list_of_article_url(results[0][\"apiUrl\"])"
   ]
  },
  {
   "cell_type": "markdown",
   "id": "6f2bbd52",
   "metadata": {},
   "source": [
    "### List of all articles metadata\n",
    "This contains the articles dates, types, sections, Title, but most importantly, the API url which will allow us to access the whole article."
   ]
  },
  {
   "cell_type": "code",
   "execution_count": 6,
   "id": "89ebb5fb",
   "metadata": {},
   "outputs": [
    {
     "data": {
      "text/html": [
       "<div>\n",
       "<style scoped>\n",
       "    .dataframe tbody tr th:only-of-type {\n",
       "        vertical-align: middle;\n",
       "    }\n",
       "\n",
       "    .dataframe tbody tr th {\n",
       "        vertical-align: top;\n",
       "    }\n",
       "\n",
       "    .dataframe thead th {\n",
       "        text-align: right;\n",
       "    }\n",
       "</style>\n",
       "<table border=\"1\" class=\"dataframe\">\n",
       "  <thead>\n",
       "    <tr style=\"text-align: right;\">\n",
       "      <th></th>\n",
       "      <th>id</th>\n",
       "      <th>type</th>\n",
       "      <th>sectionId</th>\n",
       "      <th>webPublicationDate</th>\n",
       "      <th>webTitle</th>\n",
       "      <th>webUrl</th>\n",
       "      <th>apiUrl</th>\n",
       "    </tr>\n",
       "  </thead>\n",
       "  <tbody>\n",
       "    <tr>\n",
       "      <th>0</th>\n",
       "      <td>business_nils-pratley-on-finance_2021_may_24_l...</td>\n",
       "      <td>article</td>\n",
       "      <td>business</td>\n",
       "      <td>2021-05-24T19:16:31Z</td>\n",
       "      <td>Liberty Steel wants to buy time, but who will ...</td>\n",
       "      <td>https://www.theguardian.com/business/nils-prat...</td>\n",
       "      <td>https://content.guardianapis.com/business/nils...</td>\n",
       "    </tr>\n",
       "    <tr>\n",
       "      <th>1</th>\n",
       "      <td>business_nils-pratley-on-finance_2021_may_19_t...</td>\n",
       "      <td>article</td>\n",
       "      <td>business</td>\n",
       "      <td>2021-05-19T19:10:54Z</td>\n",
       "      <td>The 30% one-day fall in bitcoin’s value looks ...</td>\n",
       "      <td>https://www.theguardian.com/business/nils-prat...</td>\n",
       "      <td>https://content.guardianapis.com/business/nils...</td>\n",
       "    </tr>\n",
       "    <tr>\n",
       "      <th>2</th>\n",
       "      <td>business_2021_may_13_fund-management-irretriev...</td>\n",
       "      <td>article</td>\n",
       "      <td>business</td>\n",
       "      <td>2021-05-13T16:27:08Z</td>\n",
       "      <td>Fund management ‘irretrievably broken’, says s...</td>\n",
       "      <td>https://www.theguardian.com/business/2021/may/...</td>\n",
       "      <td>https://content.guardianapis.com/business/2021...</td>\n",
       "    </tr>\n",
       "    <tr>\n",
       "      <th>3</th>\n",
       "      <td>business_2021_may_05_uk-car-sales-rebound-afte...</td>\n",
       "      <td>article</td>\n",
       "      <td>business</td>\n",
       "      <td>2021-05-05T09:21:07Z</td>\n",
       "      <td>UK car sales rebound after ‘one of darkest yea...</td>\n",
       "      <td>https://www.theguardian.com/business/2021/may/...</td>\n",
       "      <td>https://content.guardianapis.com/business/2021...</td>\n",
       "    </tr>\n",
       "    <tr>\n",
       "      <th>4</th>\n",
       "      <td>business_2021_apr_28_us-automakers-rules-auto-...</td>\n",
       "      <td>article</td>\n",
       "      <td>technology</td>\n",
       "      <td>2021-04-28T16:49:27Z</td>\n",
       "      <td>US automakers outline rules for auto-driving c...</td>\n",
       "      <td>https://www.theguardian.com/business/2021/apr/...</td>\n",
       "      <td>https://content.guardianapis.com/business/2021...</td>\n",
       "    </tr>\n",
       "    <tr>\n",
       "      <th>...</th>\n",
       "      <td>...</td>\n",
       "      <td>...</td>\n",
       "      <td>...</td>\n",
       "      <td>...</td>\n",
       "      <td>...</td>\n",
       "      <td>...</td>\n",
       "      <td>...</td>\n",
       "    </tr>\n",
       "    <tr>\n",
       "      <th>401</th>\n",
       "      <td>media_2008_dec_24_jeremy-clarkson-top-gear-tes...</td>\n",
       "      <td>article</td>\n",
       "      <td>tv-and-radio</td>\n",
       "      <td>2008-12-24T07:11:09Z</td>\n",
       "      <td>Top Gear's Jeremy Clarkson under fire over Tes...</td>\n",
       "      <td>https://www.theguardian.com/media/2008/dec/24/...</td>\n",
       "      <td>https://content.guardianapis.com/media/2008/de...</td>\n",
       "    </tr>\n",
       "    <tr>\n",
       "      <th>402</th>\n",
       "      <td>technology_blog_2008_dec_01_engineering-automo...</td>\n",
       "      <td>article</td>\n",
       "      <td>technology</td>\n",
       "      <td>2008-12-01T22:42:56Z</td>\n",
       "      <td>Why Obama should treat the car industry like t...</td>\n",
       "      <td>https://www.theguardian.com/technology/blog/20...</td>\n",
       "      <td>https://content.guardianapis.com/technology/bl...</td>\n",
       "    </tr>\n",
       "    <tr>\n",
       "      <th>403</th>\n",
       "      <td>environment_2008_oct_16_alternativeenergy-usa</td>\n",
       "      <td>article</td>\n",
       "      <td>environment</td>\n",
       "      <td>2008-10-16T08:20:53Z</td>\n",
       "      <td>Electric car manufacturer hit by financial crisis</td>\n",
       "      <td>https://www.theguardian.com/environment/2008/o...</td>\n",
       "      <td>https://content.guardianapis.com/environment/2...</td>\n",
       "    </tr>\n",
       "    <tr>\n",
       "      <th>404</th>\n",
       "      <td>business_2008_jul_01_automotive.greenbusiness</td>\n",
       "      <td>article</td>\n",
       "      <td>business</td>\n",
       "      <td>2008-07-01T16:06:40Z</td>\n",
       "      <td>California beats New Mexico in race to build z...</td>\n",
       "      <td>https://www.theguardian.com/business/2008/jul/...</td>\n",
       "      <td>https://content.guardianapis.com/business/2008...</td>\n",
       "    </tr>\n",
       "    <tr>\n",
       "      <th>405</th>\n",
       "      <td>environment_2006_aug_22_motoring.lifeandhealth</td>\n",
       "      <td>article</td>\n",
       "      <td>environment</td>\n",
       "      <td>2006-08-22T11:58:51Z</td>\n",
       "      <td>An exclusive preview of the world's most excit...</td>\n",
       "      <td>https://www.theguardian.com/environment/2006/a...</td>\n",
       "      <td>https://content.guardianapis.com/environment/2...</td>\n",
       "    </tr>\n",
       "  </tbody>\n",
       "</table>\n",
       "<p>406 rows × 7 columns</p>\n",
       "</div>"
      ],
      "text/plain": [
       "                                                    id     type     sectionId  \\\n",
       "0    business_nils-pratley-on-finance_2021_may_24_l...  article      business   \n",
       "1    business_nils-pratley-on-finance_2021_may_19_t...  article      business   \n",
       "2    business_2021_may_13_fund-management-irretriev...  article      business   \n",
       "3    business_2021_may_05_uk-car-sales-rebound-afte...  article      business   \n",
       "4    business_2021_apr_28_us-automakers-rules-auto-...  article    technology   \n",
       "..                                                 ...      ...           ...   \n",
       "401  media_2008_dec_24_jeremy-clarkson-top-gear-tes...  article  tv-and-radio   \n",
       "402  technology_blog_2008_dec_01_engineering-automo...  article    technology   \n",
       "403      environment_2008_oct_16_alternativeenergy-usa  article   environment   \n",
       "404      business_2008_jul_01_automotive.greenbusiness  article      business   \n",
       "405     environment_2006_aug_22_motoring.lifeandhealth  article   environment   \n",
       "\n",
       "       webPublicationDate                                           webTitle  \\\n",
       "0    2021-05-24T19:16:31Z  Liberty Steel wants to buy time, but who will ...   \n",
       "1    2021-05-19T19:10:54Z  The 30% one-day fall in bitcoin’s value looks ...   \n",
       "2    2021-05-13T16:27:08Z  Fund management ‘irretrievably broken’, says s...   \n",
       "3    2021-05-05T09:21:07Z  UK car sales rebound after ‘one of darkest yea...   \n",
       "4    2021-04-28T16:49:27Z  US automakers outline rules for auto-driving c...   \n",
       "..                    ...                                                ...   \n",
       "401  2008-12-24T07:11:09Z  Top Gear's Jeremy Clarkson under fire over Tes...   \n",
       "402  2008-12-01T22:42:56Z  Why Obama should treat the car industry like t...   \n",
       "403  2008-10-16T08:20:53Z  Electric car manufacturer hit by financial crisis   \n",
       "404  2008-07-01T16:06:40Z  California beats New Mexico in race to build z...   \n",
       "405  2006-08-22T11:58:51Z  An exclusive preview of the world's most excit...   \n",
       "\n",
       "                                                webUrl  \\\n",
       "0    https://www.theguardian.com/business/nils-prat...   \n",
       "1    https://www.theguardian.com/business/nils-prat...   \n",
       "2    https://www.theguardian.com/business/2021/may/...   \n",
       "3    https://www.theguardian.com/business/2021/may/...   \n",
       "4    https://www.theguardian.com/business/2021/apr/...   \n",
       "..                                                 ...   \n",
       "401  https://www.theguardian.com/media/2008/dec/24/...   \n",
       "402  https://www.theguardian.com/technology/blog/20...   \n",
       "403  https://www.theguardian.com/environment/2008/o...   \n",
       "404  https://www.theguardian.com/business/2008/jul/...   \n",
       "405  https://www.theguardian.com/environment/2006/a...   \n",
       "\n",
       "                                                apiUrl  \n",
       "0    https://content.guardianapis.com/business/nils...  \n",
       "1    https://content.guardianapis.com/business/nils...  \n",
       "2    https://content.guardianapis.com/business/2021...  \n",
       "3    https://content.guardianapis.com/business/2021...  \n",
       "4    https://content.guardianapis.com/business/2021...  \n",
       "..                                                 ...  \n",
       "401  https://content.guardianapis.com/media/2008/de...  \n",
       "402  https://content.guardianapis.com/technology/bl...  \n",
       "403  https://content.guardianapis.com/environment/2...  \n",
       "404  https://content.guardianapis.com/business/2008...  \n",
       "405  https://content.guardianapis.com/environment/2...  \n",
       "\n",
       "[406 rows x 7 columns]"
      ]
     },
     "execution_count": 6,
     "metadata": {},
     "output_type": "execute_result"
    }
   ],
   "source": [
    "tesla_theguardian_df"
   ]
  },
  {
   "cell_type": "markdown",
   "id": "26528a88",
   "metadata": {},
   "source": [
    "#### Convert string publication datetime to python datetime objects"
   ]
  },
  {
   "cell_type": "code",
   "execution_count": 7,
   "id": "b2e8ac29",
   "metadata": {},
   "outputs": [],
   "source": [
    "tesla_theguardian_df.loc[:, \"webPublicationDate\"] = tesla_theguardian_df[\"webPublicationDate\"].apply(lambda dt: datetime.strptime(dt, \"%Y-%m-%dT%H:%M:%SZ\"))"
   ]
  },
  {
   "cell_type": "markdown",
   "id": "95a3578c",
   "metadata": {},
   "source": [
    "### Quick look at the repartition through time of the Tesla articles"
   ]
  },
  {
   "cell_type": "code",
   "execution_count": 8,
   "id": "2a632ebc",
   "metadata": {},
   "outputs": [
    {
     "data": {
      "image/png": "[encoded data removed]",
      "text/plain": [
       "<Figure size 432x288 with 1 Axes>"
      ]
     },
     "metadata": {
      "needs_background": "light"
     },
     "output_type": "display_data"
    }
   ],
   "source": [
    "plt.title(\"Repartition of the Tesla related articles publication dates\")\n",
    "tesla_theguardian_df.webPublicationDate.hist()\n",
    "plt.xlabel(\"Date of publication\")\n",
    "plt.ylabel(\"Number or Tesla articles\")\n",
    "plt.show()"
   ]
  },
  {
   "cell_type": "markdown",
   "id": "67be4c48",
   "metadata": {},
   "source": [
    "#### Save the dataframe of Tesla related articles"
   ]
  },
  {
   "cell_type": "code",
   "execution_count": 9,
   "id": "6087f246",
   "metadata": {},
   "outputs": [],
   "source": [
    "tesla_theguardian_df.to_csv('/home/jupyter/data/ner/theguardian/tesla_theguardian_df.csv')"
   ]
  },
  {
   "cell_type": "markdown",
   "id": "9496e8bd",
   "metadata": {},
   "source": [
    "## Download every articles form the tesla articles dataframe\n",
    "We will parse those articles with BeautifulSoup python package to remove all HTML elements. We will save the results in text files using the article id as filenames.\n"
   ]
  },
  {
   "cell_type": "code",
   "execution_count": 10,
   "id": "1b56b595",
   "metadata": {},
   "outputs": [],
   "source": [
    "def dowload_articles_content(theguardian_df):\n",
    "    \n",
    "    header = {\n",
    "        \"show-fields\": [\"body\"]\n",
    "    }\n",
    "    \n",
    "    for article_key, article_api_uri in tqdm(theguardian_df[[\"id\", \"apiUrl\"]].values):\n",
    "        content = theguardian_content.Content(api=API_KEY, url=article_api_uri,\n",
    "                                              **header).get_content_response()\n",
    "        txt = content['response']['content']['fields']['body']\n",
    "        preprocess_txt = BeautifulSoup(txt, 'html.parser').get_text()\n",
    "        with open(\"/home/jupyter/data/ner/theguardian/articles/\" + article_key + \".txt\", \"w\") as f:\n",
    "            f.write(preprocess_txt)\n",
    "        sleep(0.1)\n"
   ]
  },
  {
   "cell_type": "code",
   "execution_count": 11,
   "id": "f9bd64b1",
   "metadata": {},
   "outputs": [
    {
     "data": {
      "application/vnd.jupyter.widget-view+json": {
       "model_id": "f947225d701849819d8eb06dfb9bafc3",
       "version_major": 2,
       "version_minor": 0
      },
      "text/plain": [
       "  0%|          | 0/406 [00:00<?, ?it/s]"
      ]
     },
     "metadata": {},
     "output_type": "display_data"
    }
   ],
   "source": [
    "dowload_articles_content(tesla_theguardian_df)"
   ]
  },
  {
   "cell_type": "code",
   "execution_count": null,
   "id": "156b95e1",
   "metadata": {},
   "outputs": [],
   "source": []
  }
 ],
 "metadata": {
  "environment": {
   "name": "common-cpu.m65",
   "type": "gcloud",
   "uri": "gcr.io/deeplearning-platform-release/base-cpu:m65"
  },
  "kernelspec": {
   "display_name": "Python 3",
   "language": "python",
   "name": "python3"
  },
  "language_info": {
   "codemirror_mode": {
    "name": "ipython",
    "version": 3
   },
   "file_extension": ".py",
   "mimetype": "text/x-python",
   "name": "python",
   "nbconvert_exporter": "python",
   "pygments_lexer": "ipython3",
   "version": "3.7.10"
  }
 },
 "nbformat": 4,
 "nbformat_minor": 5
}
